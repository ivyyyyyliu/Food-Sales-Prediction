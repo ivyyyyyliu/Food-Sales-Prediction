{
  "nbformat": 4,
  "nbformat_minor": 0,
  "metadata": {
    "colab": {
      "provenance": [],
      "collapsed_sections": [],
      "authorship_tag": "ABX9TyOb0AOi8+BXofjyerO9D2e8",
      "include_colab_link": true
    },
    "kernelspec": {
      "name": "python3",
      "display_name": "Python 3"
    },
    "language_info": {
      "name": "python"
    }
  },
  "cells": [
    {
      "cell_type": "markdown",
      "metadata": {
        "id": "view-in-github",
        "colab_type": "text"
      },
      "source": [
        "<a href=\"https://colab.research.google.com/github/ivyyyyyliu/Food-Sales-Prediction/blob/main/Project_1_Part_5_(Core).ipynb\" target=\"_parent\"><img src=\"https://colab.research.google.com/assets/colab-badge.svg\" alt=\"Open In Colab\"/></a>"
      ]
    },
    {
      "cell_type": "code",
      "source": [
        "from google.colab import drive\n",
        "drive.mount('/content/drive')"
      ],
      "metadata": {
        "colab": {
          "base_uri": "https://localhost:8080/"
        },
        "id": "Z004DNOiaK64",
        "outputId": "572103db-ad32-448d-fdb7-673db8bcdb9e"
      },
      "execution_count": 49,
      "outputs": [
        {
          "output_type": "stream",
          "name": "stdout",
          "text": [
            "Drive already mounted at /content/drive; to attempt to forcibly remount, call drive.mount(\"/content/drive\", force_remount=True).\n"
          ]
        }
      ]
    },
    {
      "cell_type": "code",
      "execution_count": 50,
      "metadata": {
        "id": "VfyfqYwZXq-T"
      },
      "outputs": [],
      "source": [
        "#imports\n",
        "import pandas as pd\n",
        "import numpy as np\n",
        "from sklearn.preprocessing import StandardScaler, OneHotEncoder, \\\n",
        "OrdinalEncoder\n",
        "from sklearn.impute import SimpleImputer\n",
        "from sklearn.compose import make_column_transformer, make_column_selector\n",
        "from sklearn.pipeline import make_pipeline\n",
        "from sklearn.model_selection import train_test_split\n",
        "from sklearn import set_config\n",
        "set_config(display='diagram')"
      ]
    },
    {
      "cell_type": "code",
      "source": [
        "path = '/content/drive/MyDrive/05 Week 5:/sales_predictions (1).csv'\n",
        "df = pd.read_csv(path)\n",
        "df.head()"
      ],
      "metadata": {
        "colab": {
          "base_uri": "https://localhost:8080/",
          "height": 206
        },
        "id": "UPVJRFQhaHyx",
        "outputId": "aa454a7e-b9f2-43ee-9054-f677740e4a76"
      },
      "execution_count": 51,
      "outputs": [
        {
          "output_type": "execute_result",
          "data": {
            "text/plain": [
              "  Item_Identifier  Item_Weight Item_Fat_Content  Item_Visibility  \\\n",
              "0           FDA15         9.30          Low Fat         0.016047   \n",
              "1           DRC01         5.92          Regular         0.019278   \n",
              "2           FDN15        17.50          Low Fat         0.016760   \n",
              "3           FDX07        19.20          Regular         0.000000   \n",
              "4           NCD19         8.93          Low Fat         0.000000   \n",
              "\n",
              "               Item_Type  Item_MRP Outlet_Identifier  \\\n",
              "0                  Dairy  249.8092            OUT049   \n",
              "1            Soft Drinks   48.2692            OUT018   \n",
              "2                   Meat  141.6180            OUT049   \n",
              "3  Fruits and Vegetables  182.0950            OUT010   \n",
              "4              Household   53.8614            OUT013   \n",
              "\n",
              "   Outlet_Establishment_Year Outlet_Size Outlet_Location_Type  \\\n",
              "0                       1999      Medium               Tier 1   \n",
              "1                       2009      Medium               Tier 3   \n",
              "2                       1999      Medium               Tier 1   \n",
              "3                       1998         NaN               Tier 3   \n",
              "4                       1987        High               Tier 3   \n",
              "\n",
              "         Outlet_Type  Item_Outlet_Sales  \n",
              "0  Supermarket Type1          3735.1380  \n",
              "1  Supermarket Type2           443.4228  \n",
              "2  Supermarket Type1          2097.2700  \n",
              "3      Grocery Store           732.3800  \n",
              "4  Supermarket Type1           994.7052  "
            ],
            "text/html": [
              "\n",
              "  <div id=\"df-b886f2e8-a7f6-4040-9863-18fc471f9510\">\n",
              "    <div class=\"colab-df-container\">\n",
              "      <div>\n",
              "<style scoped>\n",
              "    .dataframe tbody tr th:only-of-type {\n",
              "        vertical-align: middle;\n",
              "    }\n",
              "\n",
              "    .dataframe tbody tr th {\n",
              "        vertical-align: top;\n",
              "    }\n",
              "\n",
              "    .dataframe thead th {\n",
              "        text-align: right;\n",
              "    }\n",
              "</style>\n",
              "<table border=\"1\" class=\"dataframe\">\n",
              "  <thead>\n",
              "    <tr style=\"text-align: right;\">\n",
              "      <th></th>\n",
              "      <th>Item_Identifier</th>\n",
              "      <th>Item_Weight</th>\n",
              "      <th>Item_Fat_Content</th>\n",
              "      <th>Item_Visibility</th>\n",
              "      <th>Item_Type</th>\n",
              "      <th>Item_MRP</th>\n",
              "      <th>Outlet_Identifier</th>\n",
              "      <th>Outlet_Establishment_Year</th>\n",
              "      <th>Outlet_Size</th>\n",
              "      <th>Outlet_Location_Type</th>\n",
              "      <th>Outlet_Type</th>\n",
              "      <th>Item_Outlet_Sales</th>\n",
              "    </tr>\n",
              "  </thead>\n",
              "  <tbody>\n",
              "    <tr>\n",
              "      <th>0</th>\n",
              "      <td>FDA15</td>\n",
              "      <td>9.30</td>\n",
              "      <td>Low Fat</td>\n",
              "      <td>0.016047</td>\n",
              "      <td>Dairy</td>\n",
              "      <td>249.8092</td>\n",
              "      <td>OUT049</td>\n",
              "      <td>1999</td>\n",
              "      <td>Medium</td>\n",
              "      <td>Tier 1</td>\n",
              "      <td>Supermarket Type1</td>\n",
              "      <td>3735.1380</td>\n",
              "    </tr>\n",
              "    <tr>\n",
              "      <th>1</th>\n",
              "      <td>DRC01</td>\n",
              "      <td>5.92</td>\n",
              "      <td>Regular</td>\n",
              "      <td>0.019278</td>\n",
              "      <td>Soft Drinks</td>\n",
              "      <td>48.2692</td>\n",
              "      <td>OUT018</td>\n",
              "      <td>2009</td>\n",
              "      <td>Medium</td>\n",
              "      <td>Tier 3</td>\n",
              "      <td>Supermarket Type2</td>\n",
              "      <td>443.4228</td>\n",
              "    </tr>\n",
              "    <tr>\n",
              "      <th>2</th>\n",
              "      <td>FDN15</td>\n",
              "      <td>17.50</td>\n",
              "      <td>Low Fat</td>\n",
              "      <td>0.016760</td>\n",
              "      <td>Meat</td>\n",
              "      <td>141.6180</td>\n",
              "      <td>OUT049</td>\n",
              "      <td>1999</td>\n",
              "      <td>Medium</td>\n",
              "      <td>Tier 1</td>\n",
              "      <td>Supermarket Type1</td>\n",
              "      <td>2097.2700</td>\n",
              "    </tr>\n",
              "    <tr>\n",
              "      <th>3</th>\n",
              "      <td>FDX07</td>\n",
              "      <td>19.20</td>\n",
              "      <td>Regular</td>\n",
              "      <td>0.000000</td>\n",
              "      <td>Fruits and Vegetables</td>\n",
              "      <td>182.0950</td>\n",
              "      <td>OUT010</td>\n",
              "      <td>1998</td>\n",
              "      <td>NaN</td>\n",
              "      <td>Tier 3</td>\n",
              "      <td>Grocery Store</td>\n",
              "      <td>732.3800</td>\n",
              "    </tr>\n",
              "    <tr>\n",
              "      <th>4</th>\n",
              "      <td>NCD19</td>\n",
              "      <td>8.93</td>\n",
              "      <td>Low Fat</td>\n",
              "      <td>0.000000</td>\n",
              "      <td>Household</td>\n",
              "      <td>53.8614</td>\n",
              "      <td>OUT013</td>\n",
              "      <td>1987</td>\n",
              "      <td>High</td>\n",
              "      <td>Tier 3</td>\n",
              "      <td>Supermarket Type1</td>\n",
              "      <td>994.7052</td>\n",
              "    </tr>\n",
              "  </tbody>\n",
              "</table>\n",
              "</div>\n",
              "      <button class=\"colab-df-convert\" onclick=\"convertToInteractive('df-b886f2e8-a7f6-4040-9863-18fc471f9510')\"\n",
              "              title=\"Convert this dataframe to an interactive table.\"\n",
              "              style=\"display:none;\">\n",
              "        \n",
              "  <svg xmlns=\"http://www.w3.org/2000/svg\" height=\"24px\"viewBox=\"0 0 24 24\"\n",
              "       width=\"24px\">\n",
              "    <path d=\"M0 0h24v24H0V0z\" fill=\"none\"/>\n",
              "    <path d=\"M18.56 5.44l.94 2.06.94-2.06 2.06-.94-2.06-.94-.94-2.06-.94 2.06-2.06.94zm-11 1L8.5 8.5l.94-2.06 2.06-.94-2.06-.94L8.5 2.5l-.94 2.06-2.06.94zm10 10l.94 2.06.94-2.06 2.06-.94-2.06-.94-.94-2.06-.94 2.06-2.06.94z\"/><path d=\"M17.41 7.96l-1.37-1.37c-.4-.4-.92-.59-1.43-.59-.52 0-1.04.2-1.43.59L10.3 9.45l-7.72 7.72c-.78.78-.78 2.05 0 2.83L4 21.41c.39.39.9.59 1.41.59.51 0 1.02-.2 1.41-.59l7.78-7.78 2.81-2.81c.8-.78.8-2.07 0-2.86zM5.41 20L4 18.59l7.72-7.72 1.47 1.35L5.41 20z\"/>\n",
              "  </svg>\n",
              "      </button>\n",
              "      \n",
              "  <style>\n",
              "    .colab-df-container {\n",
              "      display:flex;\n",
              "      flex-wrap:wrap;\n",
              "      gap: 12px;\n",
              "    }\n",
              "\n",
              "    .colab-df-convert {\n",
              "      background-color: #E8F0FE;\n",
              "      border: none;\n",
              "      border-radius: 50%;\n",
              "      cursor: pointer;\n",
              "      display: none;\n",
              "      fill: #1967D2;\n",
              "      height: 32px;\n",
              "      padding: 0 0 0 0;\n",
              "      width: 32px;\n",
              "    }\n",
              "\n",
              "    .colab-df-convert:hover {\n",
              "      background-color: #E2EBFA;\n",
              "      box-shadow: 0px 1px 2px rgba(60, 64, 67, 0.3), 0px 1px 3px 1px rgba(60, 64, 67, 0.15);\n",
              "      fill: #174EA6;\n",
              "    }\n",
              "\n",
              "    [theme=dark] .colab-df-convert {\n",
              "      background-color: #3B4455;\n",
              "      fill: #D2E3FC;\n",
              "    }\n",
              "\n",
              "    [theme=dark] .colab-df-convert:hover {\n",
              "      background-color: #434B5C;\n",
              "      box-shadow: 0px 1px 3px 1px rgba(0, 0, 0, 0.15);\n",
              "      filter: drop-shadow(0px 1px 2px rgba(0, 0, 0, 0.3));\n",
              "      fill: #FFFFFF;\n",
              "    }\n",
              "  </style>\n",
              "\n",
              "      <script>\n",
              "        const buttonEl =\n",
              "          document.querySelector('#df-b886f2e8-a7f6-4040-9863-18fc471f9510 button.colab-df-convert');\n",
              "        buttonEl.style.display =\n",
              "          google.colab.kernel.accessAllowed ? 'block' : 'none';\n",
              "\n",
              "        async function convertToInteractive(key) {\n",
              "          const element = document.querySelector('#df-b886f2e8-a7f6-4040-9863-18fc471f9510');\n",
              "          const dataTable =\n",
              "            await google.colab.kernel.invokeFunction('convertToInteractive',\n",
              "                                                     [key], {});\n",
              "          if (!dataTable) return;\n",
              "\n",
              "          const docLinkHtml = 'Like what you see? Visit the ' +\n",
              "            '<a target=\"_blank\" href=https://colab.research.google.com/notebooks/data_table.ipynb>data table notebook</a>'\n",
              "            + ' to learn more about interactive tables.';\n",
              "          element.innerHTML = '';\n",
              "          dataTable['output_type'] = 'display_data';\n",
              "          await google.colab.output.renderOutput(dataTable, element);\n",
              "          const docLink = document.createElement('div');\n",
              "          docLink.innerHTML = docLinkHtml;\n",
              "          element.appendChild(docLink);\n",
              "        }\n",
              "      </script>\n",
              "    </div>\n",
              "  </div>\n",
              "  "
            ]
          },
          "metadata": {},
          "execution_count": 51
        }
      ]
    },
    {
      "cell_type": "markdown",
      "source": [
        "- Before splitting your data, you can drop duplicates and fix inconsistencies in categorical data.* (*There is a way to do this after the split, but for this project, you may perform this step before the split)"
      ],
      "metadata": {
        "id": "XxAYLaOxbAB2"
      }
    },
    {
      "cell_type": "code",
      "source": [
        "df.duplicated().sum()\n",
        "#after checking, there is no duplicated "
      ],
      "metadata": {
        "colab": {
          "base_uri": "https://localhost:8080/"
        },
        "id": "PTcozonoa_wt",
        "outputId": "858f532d-4a44-433b-9ecd-10f7b6349eae"
      },
      "execution_count": 52,
      "outputs": [
        {
          "output_type": "execute_result",
          "data": {
            "text/plain": [
              "0"
            ]
          },
          "metadata": {},
          "execution_count": 52
        }
      ]
    },
    {
      "cell_type": "code",
      "source": [
        "#Identify missing values.\n",
        "df.isna().sum()"
      ],
      "metadata": {
        "colab": {
          "base_uri": "https://localhost:8080/"
        },
        "id": "I5FO4Mqkb09j",
        "outputId": "5d295a72-55aa-42f2-b6ec-cf60ad27f383"
      },
      "execution_count": 53,
      "outputs": [
        {
          "output_type": "execute_result",
          "data": {
            "text/plain": [
              "Item_Identifier                 0\n",
              "Item_Weight                  1463\n",
              "Item_Fat_Content                0\n",
              "Item_Visibility                 0\n",
              "Item_Type                       0\n",
              "Item_MRP                        0\n",
              "Outlet_Identifier               0\n",
              "Outlet_Establishment_Year       0\n",
              "Outlet_Size                  2410\n",
              "Outlet_Location_Type            0\n",
              "Outlet_Type                     0\n",
              "Item_Outlet_Sales               0\n",
              "dtype: int64"
            ]
          },
          "metadata": {},
          "execution_count": 53
        }
      ]
    },
    {
      "cell_type": "code",
      "source": [
        "df.value_counts()"
      ],
      "metadata": {
        "colab": {
          "base_uri": "https://localhost:8080/"
        },
        "id": "3WzUkeMonO1l",
        "outputId": "68350ffe-a549-4dd2-c914-b36aade98594"
      },
      "execution_count": 54,
      "outputs": [
        {
          "output_type": "execute_result",
          "data": {
            "text/plain": [
              "Item_Identifier  Item_Weight  Item_Fat_Content  Item_Visibility  Item_Type     Item_MRP  Outlet_Identifier  Outlet_Establishment_Year  Outlet_Size  Outlet_Location_Type  Outlet_Type        Item_Outlet_Sales\n",
              "DRA12            11.600       LF                0.000000         Soft Drinks   141.9154  OUT035             2004                       Small        Tier 2                Supermarket Type1  992.7078             1\n",
              "FDV35            19.500       Low Fat           0.128182         Breads        156.1314  OUT035             2004                       Small        Tier 2                Supermarket Type1  2792.3652            1\n",
              "FDV25            5.905        low fat           0.045614         Canned        221.5456  OUT013             1987                       High         Tier 3                Supermarket Type1  6852.4136            1\n",
              "                              Low Fat           0.045838         Canned        222.5456  OUT018             2009                       Medium       Tier 3                Supermarket Type2  3315.6840            1\n",
              "                                                0.045723         Canned        222.1456  OUT049             1999                       Medium       Tier 1                Supermarket Type1  5747.1856            1\n",
              "                                                                                                                                                                                                                 ..\n",
              "FDJ16            9.195        Low Fat           0.115064         Frozen Foods  58.6246   OUT049             1999                       Medium       Tier 1                Supermarket Type1  868.8690             1\n",
              "                                                0.114886         Frozen Foods  59.6246   OUT046             1997                       Small        Tier 1                Supermarket Type1  1100.5674            1\n",
              "                              LF                0.114864         Frozen Foods  59.0246   OUT035             2004                       Small        Tier 2                Supermarket Type1  1853.5872            1\n",
              "FDJ15            11.350       Regular           0.023359         Dairy         184.4608  OUT049             1999                       Medium       Tier 1                Supermarket Type1  4042.7376            1\n",
              "NCZ54            14.650       Low Fat           0.083699         Household     163.4552  OUT018             2009                       Medium       Tier 3                Supermarket Type2  2599.2832            1\n",
              "Length: 4650, dtype: int64"
            ]
          },
          "metadata": {},
          "execution_count": 54
        }
      ]
    },
    {
      "cell_type": "code",
      "source": [
        "df['Item_Fat_Content'].value_counts()"
      ],
      "metadata": {
        "colab": {
          "base_uri": "https://localhost:8080/"
        },
        "id": "xMW28ClQnTcF",
        "outputId": "1d99eb01-d413-4dfb-a811-665c3d06fa66"
      },
      "execution_count": 91,
      "outputs": [
        {
          "output_type": "execute_result",
          "data": {
            "text/plain": [
              "Low Fat    5517\n",
              "Regular    3006\n",
              "Name: Item_Fat_Content, dtype: int64"
            ]
          },
          "metadata": {},
          "execution_count": 91
        }
      ]
    },
    {
      "cell_type": "code",
      "source": [
        "df.replace(['LF','low fat'],['Low Fat','Low Fat'], inplace = True)\n",
        "df.replace(['reg'],['Regular'], inplace = True)\n",
        "df['Item_Fat_Content'].value_counts()"
      ],
      "metadata": {
        "colab": {
          "base_uri": "https://localhost:8080/"
        },
        "id": "HssF4iRvnVQC",
        "outputId": "b5896c30-ea93-40f7-fb29-62040bc14aa4"
      },
      "execution_count": 92,
      "outputs": [
        {
          "output_type": "execute_result",
          "data": {
            "text/plain": [
              "Low Fat    5517\n",
              "Regular    3006\n",
              "Name: Item_Fat_Content, dtype: int64"
            ]
          },
          "metadata": {},
          "execution_count": 92
        }
      ]
    },
    {
      "cell_type": "code",
      "source": [
        "df.info()"
      ],
      "metadata": {
        "colab": {
          "base_uri": "https://localhost:8080/"
        },
        "id": "rVkri2rspgVH",
        "outputId": "3c6c1731-4528-498a-fb56-c5251b3b92f8"
      },
      "execution_count": 93,
      "outputs": [
        {
          "output_type": "stream",
          "name": "stdout",
          "text": [
            "<class 'pandas.core.frame.DataFrame'>\n",
            "RangeIndex: 8523 entries, 0 to 8522\n",
            "Data columns (total 12 columns):\n",
            " #   Column                     Non-Null Count  Dtype  \n",
            "---  ------                     --------------  -----  \n",
            " 0   Item_Identifier            8523 non-null   object \n",
            " 1   Item_Weight                7060 non-null   float64\n",
            " 2   Item_Fat_Content           8523 non-null   object \n",
            " 3   Item_Visibility            8523 non-null   float64\n",
            " 4   Item_Type                  8523 non-null   object \n",
            " 5   Item_MRP                   8523 non-null   float64\n",
            " 6   Outlet_Identifier          8523 non-null   object \n",
            " 7   Outlet_Establishment_Year  8523 non-null   int64  \n",
            " 8   Outlet_Size                6113 non-null   object \n",
            " 9   Outlet_Location_Type       8523 non-null   object \n",
            " 10  Outlet_Type                8523 non-null   object \n",
            " 11  Item_Outlet_Sales          8523 non-null   float64\n",
            "dtypes: float64(4), int64(1), object(7)\n",
            "memory usage: 799.2+ KB\n"
          ]
        }
      ]
    },
    {
      "cell_type": "markdown",
      "source": [
        "- Identify the features (X) and target (y): Assign the \"Item_Outlet_Sales\" column as your target and the rest of the relevant variables as your features matrix."
      ],
      "metadata": {
        "id": "GsBvhU3dnet8"
      }
    },
    {
      "cell_type": "code",
      "source": [
        "target = 'Item_Outlet_Sales'\n",
        "\n",
        "X = df.drop('Item_Outlet_Sales', axis=1)\n",
        "\n",
        "y = df['Item_Outlet_Sales']"
      ],
      "metadata": {
        "id": "bsIFfnAdo5rt"
      },
      "execution_count": 94,
      "outputs": []
    },
    {
      "cell_type": "markdown",
      "source": [
        "- Perform a train test split"
      ],
      "metadata": {
        "id": "axg6lfE0pQKE"
      }
    },
    {
      "cell_type": "code",
      "source": [
        "X_train, X_test, y_train, y_test = train_test_split(X, y, random_state=42)"
      ],
      "metadata": {
        "id": "2rq-TCCfpb3A"
      },
      "execution_count": 95,
      "outputs": []
    },
    {
      "cell_type": "code",
      "source": [
        "cat_selector = make_column_selector(dtype_include = 'object')\n",
        "cat_selector(X_train)"
      ],
      "metadata": {
        "colab": {
          "base_uri": "https://localhost:8080/"
        },
        "id": "hZkv0nUfq2pz",
        "outputId": "9bcecee8-f7ea-4796-8bda-ca7a7ac3fbe3"
      },
      "execution_count": 96,
      "outputs": [
        {
          "output_type": "execute_result",
          "data": {
            "text/plain": [
              "['Item_Identifier',\n",
              " 'Item_Fat_Content',\n",
              " 'Item_Type',\n",
              " 'Outlet_Identifier',\n",
              " 'Outlet_Size',\n",
              " 'Outlet_Location_Type',\n",
              " 'Outlet_Type']"
            ]
          },
          "metadata": {},
          "execution_count": 96
        }
      ]
    },
    {
      "cell_type": "code",
      "source": [
        "impute_cat = SimpleImputer(strategy='most_frequent')\n",
        "encoder = OneHotEncoder(handle_unknown='ignore',sparse=False)\n",
        "\n",
        "cat_pipe = make_pipeline(impute_cat,encoder)\n",
        "cat_pipe"
      ],
      "metadata": {
        "colab": {
          "base_uri": "https://localhost:8080/",
          "height": 128
        },
        "id": "umhU_Nn3q7L4",
        "outputId": "b53fd6e8-7839-409d-abfb-aa7681c18b5b"
      },
      "execution_count": 97,
      "outputs": [
        {
          "output_type": "execute_result",
          "data": {
            "text/plain": [
              "Pipeline(steps=[('simpleimputer', SimpleImputer(strategy='most_frequent')),\n",
              "                ('onehotencoder',\n",
              "                 OneHotEncoder(handle_unknown='ignore', sparse=False))])"
            ],
            "text/html": [
              "<style>#sk-930afafc-6b7c-45ac-8b51-26810eef0192 {color: black;background-color: white;}#sk-930afafc-6b7c-45ac-8b51-26810eef0192 pre{padding: 0;}#sk-930afafc-6b7c-45ac-8b51-26810eef0192 div.sk-toggleable {background-color: white;}#sk-930afafc-6b7c-45ac-8b51-26810eef0192 label.sk-toggleable__label {cursor: pointer;display: block;width: 100%;margin-bottom: 0;padding: 0.3em;box-sizing: border-box;text-align: center;}#sk-930afafc-6b7c-45ac-8b51-26810eef0192 label.sk-toggleable__label-arrow:before {content: \"▸\";float: left;margin-right: 0.25em;color: #696969;}#sk-930afafc-6b7c-45ac-8b51-26810eef0192 label.sk-toggleable__label-arrow:hover:before {color: black;}#sk-930afafc-6b7c-45ac-8b51-26810eef0192 div.sk-estimator:hover label.sk-toggleable__label-arrow:before {color: black;}#sk-930afafc-6b7c-45ac-8b51-26810eef0192 div.sk-toggleable__content {max-height: 0;max-width: 0;overflow: hidden;text-align: left;background-color: #f0f8ff;}#sk-930afafc-6b7c-45ac-8b51-26810eef0192 div.sk-toggleable__content pre {margin: 0.2em;color: black;border-radius: 0.25em;background-color: #f0f8ff;}#sk-930afafc-6b7c-45ac-8b51-26810eef0192 input.sk-toggleable__control:checked~div.sk-toggleable__content {max-height: 200px;max-width: 100%;overflow: auto;}#sk-930afafc-6b7c-45ac-8b51-26810eef0192 input.sk-toggleable__control:checked~label.sk-toggleable__label-arrow:before {content: \"▾\";}#sk-930afafc-6b7c-45ac-8b51-26810eef0192 div.sk-estimator input.sk-toggleable__control:checked~label.sk-toggleable__label {background-color: #d4ebff;}#sk-930afafc-6b7c-45ac-8b51-26810eef0192 div.sk-label input.sk-toggleable__control:checked~label.sk-toggleable__label {background-color: #d4ebff;}#sk-930afafc-6b7c-45ac-8b51-26810eef0192 input.sk-hidden--visually {border: 0;clip: rect(1px 1px 1px 1px);clip: rect(1px, 1px, 1px, 1px);height: 1px;margin: -1px;overflow: hidden;padding: 0;position: absolute;width: 1px;}#sk-930afafc-6b7c-45ac-8b51-26810eef0192 div.sk-estimator {font-family: monospace;background-color: #f0f8ff;border: 1px dotted black;border-radius: 0.25em;box-sizing: border-box;margin-bottom: 0.5em;}#sk-930afafc-6b7c-45ac-8b51-26810eef0192 div.sk-estimator:hover {background-color: #d4ebff;}#sk-930afafc-6b7c-45ac-8b51-26810eef0192 div.sk-parallel-item::after {content: \"\";width: 100%;border-bottom: 1px solid gray;flex-grow: 1;}#sk-930afafc-6b7c-45ac-8b51-26810eef0192 div.sk-label:hover label.sk-toggleable__label {background-color: #d4ebff;}#sk-930afafc-6b7c-45ac-8b51-26810eef0192 div.sk-serial::before {content: \"\";position: absolute;border-left: 1px solid gray;box-sizing: border-box;top: 2em;bottom: 0;left: 50%;}#sk-930afafc-6b7c-45ac-8b51-26810eef0192 div.sk-serial {display: flex;flex-direction: column;align-items: center;background-color: white;padding-right: 0.2em;padding-left: 0.2em;}#sk-930afafc-6b7c-45ac-8b51-26810eef0192 div.sk-item {z-index: 1;}#sk-930afafc-6b7c-45ac-8b51-26810eef0192 div.sk-parallel {display: flex;align-items: stretch;justify-content: center;background-color: white;}#sk-930afafc-6b7c-45ac-8b51-26810eef0192 div.sk-parallel::before {content: \"\";position: absolute;border-left: 1px solid gray;box-sizing: border-box;top: 2em;bottom: 0;left: 50%;}#sk-930afafc-6b7c-45ac-8b51-26810eef0192 div.sk-parallel-item {display: flex;flex-direction: column;position: relative;background-color: white;}#sk-930afafc-6b7c-45ac-8b51-26810eef0192 div.sk-parallel-item:first-child::after {align-self: flex-end;width: 50%;}#sk-930afafc-6b7c-45ac-8b51-26810eef0192 div.sk-parallel-item:last-child::after {align-self: flex-start;width: 50%;}#sk-930afafc-6b7c-45ac-8b51-26810eef0192 div.sk-parallel-item:only-child::after {width: 0;}#sk-930afafc-6b7c-45ac-8b51-26810eef0192 div.sk-dashed-wrapped {border: 1px dashed gray;margin: 0 0.4em 0.5em 0.4em;box-sizing: border-box;padding-bottom: 0.4em;background-color: white;position: relative;}#sk-930afafc-6b7c-45ac-8b51-26810eef0192 div.sk-label label {font-family: monospace;font-weight: bold;background-color: white;display: inline-block;line-height: 1.2em;}#sk-930afafc-6b7c-45ac-8b51-26810eef0192 div.sk-label-container {position: relative;z-index: 2;text-align: center;}#sk-930afafc-6b7c-45ac-8b51-26810eef0192 div.sk-container {/* jupyter's `normalize.less` sets `[hidden] { display: none; }` but bootstrap.min.css set `[hidden] { display: none !important; }` so we also need the `!important` here to be able to override the default hidden behavior on the sphinx rendered scikit-learn.org. See: https://github.com/scikit-learn/scikit-learn/issues/21755 */display: inline-block !important;position: relative;}#sk-930afafc-6b7c-45ac-8b51-26810eef0192 div.sk-text-repr-fallback {display: none;}</style><div id=\"sk-930afafc-6b7c-45ac-8b51-26810eef0192\" class=\"sk-top-container\"><div class=\"sk-text-repr-fallback\"><pre>Pipeline(steps=[(&#x27;simpleimputer&#x27;, SimpleImputer(strategy=&#x27;most_frequent&#x27;)),\n",
              "                (&#x27;onehotencoder&#x27;,\n",
              "                 OneHotEncoder(handle_unknown=&#x27;ignore&#x27;, sparse=False))])</pre><b>Please rerun this cell to show the HTML repr or trust the notebook.</b></div><div class=\"sk-container\" hidden><div class=\"sk-item sk-dashed-wrapped\"><div class=\"sk-label-container\"><div class=\"sk-label sk-toggleable\"><input class=\"sk-toggleable__control sk-hidden--visually\" id=\"3bfbb682-3861-4fcc-bcee-7f714c48c1ee\" type=\"checkbox\" ><label for=\"3bfbb682-3861-4fcc-bcee-7f714c48c1ee\" class=\"sk-toggleable__label sk-toggleable__label-arrow\">Pipeline</label><div class=\"sk-toggleable__content\"><pre>Pipeline(steps=[(&#x27;simpleimputer&#x27;, SimpleImputer(strategy=&#x27;most_frequent&#x27;)),\n",
              "                (&#x27;onehotencoder&#x27;,\n",
              "                 OneHotEncoder(handle_unknown=&#x27;ignore&#x27;, sparse=False))])</pre></div></div></div><div class=\"sk-serial\"><div class=\"sk-item\"><div class=\"sk-estimator sk-toggleable\"><input class=\"sk-toggleable__control sk-hidden--visually\" id=\"6454d251-e7d9-47b7-bbcc-b2c468595fcd\" type=\"checkbox\" ><label for=\"6454d251-e7d9-47b7-bbcc-b2c468595fcd\" class=\"sk-toggleable__label sk-toggleable__label-arrow\">SimpleImputer</label><div class=\"sk-toggleable__content\"><pre>SimpleImputer(strategy=&#x27;most_frequent&#x27;)</pre></div></div></div><div class=\"sk-item\"><div class=\"sk-estimator sk-toggleable\"><input class=\"sk-toggleable__control sk-hidden--visually\" id=\"64fbd42e-3c77-4f91-9e17-f80bd21754fb\" type=\"checkbox\" ><label for=\"64fbd42e-3c77-4f91-9e17-f80bd21754fb\" class=\"sk-toggleable__label sk-toggleable__label-arrow\">OneHotEncoder</label><div class=\"sk-toggleable__content\"><pre>OneHotEncoder(handle_unknown=&#x27;ignore&#x27;, sparse=False)</pre></div></div></div></div></div></div></div>"
            ]
          },
          "metadata": {},
          "execution_count": 97
        }
      ]
    },
    {
      "cell_type": "code",
      "source": [
        "cat_pipe.fit_transform(X_train[cat_selector(X_train)])"
      ],
      "metadata": {
        "colab": {
          "base_uri": "https://localhost:8080/"
        },
        "id": "wI67boPoq-68",
        "outputId": "c7b8cc8f-3400-44ad-8d8e-f3ccb0ec6699"
      },
      "execution_count": 98,
      "outputs": [
        {
          "output_type": "execute_result",
          "data": {
            "text/plain": [
              "array([[0., 0., 0., ..., 0., 1., 0.],\n",
              "       [0., 0., 0., ..., 0., 1., 0.],\n",
              "       [0., 0., 0., ..., 1., 0., 0.],\n",
              "       ...,\n",
              "       [0., 0., 0., ..., 1., 0., 0.],\n",
              "       [0., 0., 0., ..., 1., 0., 0.],\n",
              "       [0., 0., 0., ..., 1., 0., 0.]])"
            ]
          },
          "metadata": {},
          "execution_count": 98
        }
      ]
    },
    {
      "cell_type": "code",
      "source": [
        "num_selector = make_column_selector(dtype_include='number')\n",
        "num_selector(X_train)"
      ],
      "metadata": {
        "colab": {
          "base_uri": "https://localhost:8080/"
        },
        "id": "nwB1fvdxrCHP",
        "outputId": "a7df79f2-572c-4a7f-8398-e7f9316609a2"
      },
      "execution_count": 99,
      "outputs": [
        {
          "output_type": "execute_result",
          "data": {
            "text/plain": [
              "['Item_Weight', 'Item_Visibility', 'Item_MRP', 'Outlet_Establishment_Year']"
            ]
          },
          "metadata": {},
          "execution_count": 99
        }
      ]
    },
    {
      "cell_type": "code",
      "source": [
        "#instantiate the StandardScaler, OneHotEncoder, OrdinalEncoder and Imputers\n",
        "scaler = StandardScaler()\n",
        "ohe = OneHotEncoder(sparse=False, handle_unknown='ignore')\n",
        "\n",
        "mean_imputer = SimpleImputer(strategy='mean')\n",
        "freq_imputer = SimpleImputer(strategy='most_frequent')\n",
        "\n",
        "#this is showing for learning purpose but we are not using it here. \n",
        "missing_imputer = SimpleImputer(strategy='constant', fill_value='missing')"
      ],
      "metadata": {
        "id": "aCyR3gd4vtqo"
      },
      "execution_count": 64,
      "outputs": []
    },
    {
      "cell_type": "code",
      "source": [
        "#create a list of ordinal labels, in order of least to most\n",
        "\n",
        "Item_Fat_Content_lable = ['Low Fat','Regular']\n",
        "Outlet_Size_labels = ['Small','Medium','High']\n",
        "\n",
        "#combine the ordered list in the order that the columns appear\n",
        "ordered_labels = [Item_Fat_Content_lable, Outlet_Size_labels]\n",
        "\n",
        "#handle_unknown is 'error' by default.  That's a good place to start\n",
        "#but it may cause problems in a production model.  \n",
        "ordinal = OrdinalEncoder(categories = ordered_labels)"
      ],
      "metadata": {
        "id": "viKPf0XExqnw"
      },
      "execution_count": 119,
      "outputs": []
    },
    {
      "cell_type": "code",
      "source": [
        "median_imputer = SimpleImputer(strategy='median')\n",
        "median_imputer.fit(X_train[num_selector])\n",
        "X_train.loc[:, num_selector] = median_imputer.transform(X_train[num_selector])\n",
        "X_test.loc[:, num_selector] = median_imputer.transform(X_test[num_selector])\n",
        "# using the Frequant imputer on the catagory data to fill missing value.\n",
        "freq_imputer = SimpleImputer(strategy='most_frequent')\n",
        "\n",
        "# Fitting on X train.\n",
        "freq_imputer.fit(X_train[cat_selector])\n",
        "SimpleImputer(strategy='most_frequent')\n",
        "# Transforming both the Xtrain and X test sets.\n",
        "X_train.loc[:, cat_selector] = freq_imputer.transform(X_train[cat_selector])\n",
        "X_test.loc[:, cat_selector] = freq_imputer.transform(X_test[cat_selector])"
      ],
      "metadata": {
        "id": "cRy-albJTwOZ"
      },
      "execution_count": 120,
      "outputs": []
    },
    {
      "cell_type": "code",
      "source": [
        "scaler.fit_transform(X_train[num_selector(X_train)])"
      ],
      "metadata": {
        "colab": {
          "base_uri": "https://localhost:8080/"
        },
        "id": "WwxuVPIxOgpO",
        "outputId": "5f55791a-06f9-4d7e-e960-dcd63753a6d8"
      },
      "execution_count": 107,
      "outputs": [
        {
          "output_type": "execute_result",
          "data": {
            "text/plain": [
              "array([[ 0.82748547, -0.71277507,  1.82810922,  1.32784893],\n",
              "       [ 0.56664432, -1.29105225,  0.60336888,  1.32784893],\n",
              "       [-0.12102782,  1.81331864,  0.24454056,  0.13618724],\n",
              "       ...,\n",
              "       [ 1.12389588, -0.92052713,  1.52302674,  0.49368575],\n",
              "       [ 1.77599877, -0.2277552 , -0.38377708,  1.0895166 ],\n",
              "       [ 0.82748547, -0.95867683, -0.73836105, -0.10214509]])"
            ]
          },
          "metadata": {},
          "execution_count": 107
        }
      ]
    },
    {
      "cell_type": "code",
      "source": [
        "num_pipeline = make_pipeline(mean_imputer, scaler)\n",
        "ord_pipeline = make_pipeline(freq_imputer, ordinal)\n",
        "nom_pipeline = make_pipeline(missing_imputer, ohe)"
      ],
      "metadata": {
        "id": "keUlAe33vNc0"
      },
      "execution_count": 108,
      "outputs": []
    },
    {
      "cell_type": "code",
      "source": [
        "ordinal_cols = ['Item_Fat_Content', 'Outlet_Size']\n",
        "nominal_cols = ['Item_Identifier','Item_Type','Outlet_Identifier','Outlet_Location_Type','Outlet_Type']\n",
        "\n",
        "num_selector = make_column_selector(dtype_include='number')\n",
        "\n",
        "# Setup the tuples to pair the processors with the make column selectors\n",
        "\n",
        "numeric_tuple = (num_pipeline, num_selector)\n",
        "ordinal_tuple = (ord_pipeline, ordinal_cols)\n",
        "nominal_tuple = (nom_pipeline, nominal_cols)"
      ],
      "metadata": {
        "id": "wQhWyGuPy8-5"
      },
      "execution_count": 109,
      "outputs": []
    },
    {
      "cell_type": "code",
      "source": [
        "\n",
        "preprocessor = make_column_transformer(ordinal_tuple, \n",
        "                                          numeric_tuple, \n",
        "                                          nominal_tuple, \n",
        "                                          remainder='drop')"
      ],
      "metadata": {
        "id": "_hz2wh47Ib5r"
      },
      "execution_count": 110,
      "outputs": []
    },
    {
      "cell_type": "code",
      "source": [
        "preprocessor.fit(X_train)"
      ],
      "metadata": {
        "colab": {
          "base_uri": "https://localhost:8080/",
          "height": 154
        },
        "id": "wNrTeSNEIdrF",
        "outputId": "f5d97c77-cb04-4e30-b27c-25a91b04e41d"
      },
      "execution_count": 111,
      "outputs": [
        {
          "output_type": "execute_result",
          "data": {
            "text/plain": [
              "ColumnTransformer(transformers=[('pipeline-1',\n",
              "                                 Pipeline(steps=[('simpleimputer',\n",
              "                                                  SimpleImputer(strategy='most_frequent')),\n",
              "                                                 ('ordinalencoder',\n",
              "                                                  OrdinalEncoder(categories=[['Low '\n",
              "                                                                              'Fat',\n",
              "                                                                              'Regular'],\n",
              "                                                                             ['Small',\n",
              "                                                                              'Medium',\n",
              "                                                                              'High']]))]),\n",
              "                                 ['Item_Fat_Content', 'Outlet_Size']),\n",
              "                                ('pipeline-2',\n",
              "                                 Pipeline(steps=[('simpleimputer',\n",
              "                                                  SimpleImputer()),\n",
              "                                                 ('standardscaler',\n",
              "                                                  StandardScale...,\n",
              "                                 <sklearn.compose._column_transformer.make_column_selector object at 0x7fde6e472750>),\n",
              "                                ('pipeline-3',\n",
              "                                 Pipeline(steps=[('simpleimputer',\n",
              "                                                  SimpleImputer(fill_value='missing',\n",
              "                                                                strategy='constant')),\n",
              "                                                 ('onehotencoder',\n",
              "                                                  OneHotEncoder(handle_unknown='ignore',\n",
              "                                                                sparse=False))]),\n",
              "                                 ['Item_Identifier', 'Item_Type',\n",
              "                                  'Outlet_Identifier', 'Outlet_Location_Type',\n",
              "                                  'Outlet_Type'])])"
            ],
            "text/html": [
              "<style>#sk-458af79e-27dd-48f8-a4cb-c9c015264182 {color: black;background-color: white;}#sk-458af79e-27dd-48f8-a4cb-c9c015264182 pre{padding: 0;}#sk-458af79e-27dd-48f8-a4cb-c9c015264182 div.sk-toggleable {background-color: white;}#sk-458af79e-27dd-48f8-a4cb-c9c015264182 label.sk-toggleable__label {cursor: pointer;display: block;width: 100%;margin-bottom: 0;padding: 0.3em;box-sizing: border-box;text-align: center;}#sk-458af79e-27dd-48f8-a4cb-c9c015264182 label.sk-toggleable__label-arrow:before {content: \"▸\";float: left;margin-right: 0.25em;color: #696969;}#sk-458af79e-27dd-48f8-a4cb-c9c015264182 label.sk-toggleable__label-arrow:hover:before {color: black;}#sk-458af79e-27dd-48f8-a4cb-c9c015264182 div.sk-estimator:hover label.sk-toggleable__label-arrow:before {color: black;}#sk-458af79e-27dd-48f8-a4cb-c9c015264182 div.sk-toggleable__content {max-height: 0;max-width: 0;overflow: hidden;text-align: left;background-color: #f0f8ff;}#sk-458af79e-27dd-48f8-a4cb-c9c015264182 div.sk-toggleable__content pre {margin: 0.2em;color: black;border-radius: 0.25em;background-color: #f0f8ff;}#sk-458af79e-27dd-48f8-a4cb-c9c015264182 input.sk-toggleable__control:checked~div.sk-toggleable__content {max-height: 200px;max-width: 100%;overflow: auto;}#sk-458af79e-27dd-48f8-a4cb-c9c015264182 input.sk-toggleable__control:checked~label.sk-toggleable__label-arrow:before {content: \"▾\";}#sk-458af79e-27dd-48f8-a4cb-c9c015264182 div.sk-estimator input.sk-toggleable__control:checked~label.sk-toggleable__label {background-color: #d4ebff;}#sk-458af79e-27dd-48f8-a4cb-c9c015264182 div.sk-label input.sk-toggleable__control:checked~label.sk-toggleable__label {background-color: #d4ebff;}#sk-458af79e-27dd-48f8-a4cb-c9c015264182 input.sk-hidden--visually {border: 0;clip: rect(1px 1px 1px 1px);clip: rect(1px, 1px, 1px, 1px);height: 1px;margin: -1px;overflow: hidden;padding: 0;position: absolute;width: 1px;}#sk-458af79e-27dd-48f8-a4cb-c9c015264182 div.sk-estimator {font-family: monospace;background-color: #f0f8ff;border: 1px dotted black;border-radius: 0.25em;box-sizing: border-box;margin-bottom: 0.5em;}#sk-458af79e-27dd-48f8-a4cb-c9c015264182 div.sk-estimator:hover {background-color: #d4ebff;}#sk-458af79e-27dd-48f8-a4cb-c9c015264182 div.sk-parallel-item::after {content: \"\";width: 100%;border-bottom: 1px solid gray;flex-grow: 1;}#sk-458af79e-27dd-48f8-a4cb-c9c015264182 div.sk-label:hover label.sk-toggleable__label {background-color: #d4ebff;}#sk-458af79e-27dd-48f8-a4cb-c9c015264182 div.sk-serial::before {content: \"\";position: absolute;border-left: 1px solid gray;box-sizing: border-box;top: 2em;bottom: 0;left: 50%;}#sk-458af79e-27dd-48f8-a4cb-c9c015264182 div.sk-serial {display: flex;flex-direction: column;align-items: center;background-color: white;padding-right: 0.2em;padding-left: 0.2em;}#sk-458af79e-27dd-48f8-a4cb-c9c015264182 div.sk-item {z-index: 1;}#sk-458af79e-27dd-48f8-a4cb-c9c015264182 div.sk-parallel {display: flex;align-items: stretch;justify-content: center;background-color: white;}#sk-458af79e-27dd-48f8-a4cb-c9c015264182 div.sk-parallel::before {content: \"\";position: absolute;border-left: 1px solid gray;box-sizing: border-box;top: 2em;bottom: 0;left: 50%;}#sk-458af79e-27dd-48f8-a4cb-c9c015264182 div.sk-parallel-item {display: flex;flex-direction: column;position: relative;background-color: white;}#sk-458af79e-27dd-48f8-a4cb-c9c015264182 div.sk-parallel-item:first-child::after {align-self: flex-end;width: 50%;}#sk-458af79e-27dd-48f8-a4cb-c9c015264182 div.sk-parallel-item:last-child::after {align-self: flex-start;width: 50%;}#sk-458af79e-27dd-48f8-a4cb-c9c015264182 div.sk-parallel-item:only-child::after {width: 0;}#sk-458af79e-27dd-48f8-a4cb-c9c015264182 div.sk-dashed-wrapped {border: 1px dashed gray;margin: 0 0.4em 0.5em 0.4em;box-sizing: border-box;padding-bottom: 0.4em;background-color: white;position: relative;}#sk-458af79e-27dd-48f8-a4cb-c9c015264182 div.sk-label label {font-family: monospace;font-weight: bold;background-color: white;display: inline-block;line-height: 1.2em;}#sk-458af79e-27dd-48f8-a4cb-c9c015264182 div.sk-label-container {position: relative;z-index: 2;text-align: center;}#sk-458af79e-27dd-48f8-a4cb-c9c015264182 div.sk-container {/* jupyter's `normalize.less` sets `[hidden] { display: none; }` but bootstrap.min.css set `[hidden] { display: none !important; }` so we also need the `!important` here to be able to override the default hidden behavior on the sphinx rendered scikit-learn.org. See: https://github.com/scikit-learn/scikit-learn/issues/21755 */display: inline-block !important;position: relative;}#sk-458af79e-27dd-48f8-a4cb-c9c015264182 div.sk-text-repr-fallback {display: none;}</style><div id=\"sk-458af79e-27dd-48f8-a4cb-c9c015264182\" class=\"sk-top-container\"><div class=\"sk-text-repr-fallback\"><pre>ColumnTransformer(transformers=[(&#x27;pipeline-1&#x27;,\n",
              "                                 Pipeline(steps=[(&#x27;simpleimputer&#x27;,\n",
              "                                                  SimpleImputer(strategy=&#x27;most_frequent&#x27;)),\n",
              "                                                 (&#x27;ordinalencoder&#x27;,\n",
              "                                                  OrdinalEncoder(categories=[[&#x27;Low &#x27;\n",
              "                                                                              &#x27;Fat&#x27;,\n",
              "                                                                              &#x27;Regular&#x27;],\n",
              "                                                                             [&#x27;Small&#x27;,\n",
              "                                                                              &#x27;Medium&#x27;,\n",
              "                                                                              &#x27;High&#x27;]]))]),\n",
              "                                 [&#x27;Item_Fat_Content&#x27;, &#x27;Outlet_Size&#x27;]),\n",
              "                                (&#x27;pipeline-2&#x27;,\n",
              "                                 Pipeline(steps=[(&#x27;simpleimputer&#x27;,\n",
              "                                                  SimpleImputer()),\n",
              "                                                 (&#x27;standardscaler&#x27;,\n",
              "                                                  StandardScale...,\n",
              "                                 &lt;sklearn.compose._column_transformer.make_column_selector object at 0x7fde6e472750&gt;),\n",
              "                                (&#x27;pipeline-3&#x27;,\n",
              "                                 Pipeline(steps=[(&#x27;simpleimputer&#x27;,\n",
              "                                                  SimpleImputer(fill_value=&#x27;missing&#x27;,\n",
              "                                                                strategy=&#x27;constant&#x27;)),\n",
              "                                                 (&#x27;onehotencoder&#x27;,\n",
              "                                                  OneHotEncoder(handle_unknown=&#x27;ignore&#x27;,\n",
              "                                                                sparse=False))]),\n",
              "                                 [&#x27;Item_Identifier&#x27;, &#x27;Item_Type&#x27;,\n",
              "                                  &#x27;Outlet_Identifier&#x27;, &#x27;Outlet_Location_Type&#x27;,\n",
              "                                  &#x27;Outlet_Type&#x27;])])</pre><b>Please rerun this cell to show the HTML repr or trust the notebook.</b></div><div class=\"sk-container\" hidden><div class=\"sk-item sk-dashed-wrapped\"><div class=\"sk-label-container\"><div class=\"sk-label sk-toggleable\"><input class=\"sk-toggleable__control sk-hidden--visually\" id=\"a3e58699-821d-4f5e-aefb-6973db872f43\" type=\"checkbox\" ><label for=\"a3e58699-821d-4f5e-aefb-6973db872f43\" class=\"sk-toggleable__label sk-toggleable__label-arrow\">ColumnTransformer</label><div class=\"sk-toggleable__content\"><pre>ColumnTransformer(transformers=[(&#x27;pipeline-1&#x27;,\n",
              "                                 Pipeline(steps=[(&#x27;simpleimputer&#x27;,\n",
              "                                                  SimpleImputer(strategy=&#x27;most_frequent&#x27;)),\n",
              "                                                 (&#x27;ordinalencoder&#x27;,\n",
              "                                                  OrdinalEncoder(categories=[[&#x27;Low &#x27;\n",
              "                                                                              &#x27;Fat&#x27;,\n",
              "                                                                              &#x27;Regular&#x27;],\n",
              "                                                                             [&#x27;Small&#x27;,\n",
              "                                                                              &#x27;Medium&#x27;,\n",
              "                                                                              &#x27;High&#x27;]]))]),\n",
              "                                 [&#x27;Item_Fat_Content&#x27;, &#x27;Outlet_Size&#x27;]),\n",
              "                                (&#x27;pipeline-2&#x27;,\n",
              "                                 Pipeline(steps=[(&#x27;simpleimputer&#x27;,\n",
              "                                                  SimpleImputer()),\n",
              "                                                 (&#x27;standardscaler&#x27;,\n",
              "                                                  StandardScale...,\n",
              "                                 &lt;sklearn.compose._column_transformer.make_column_selector object at 0x7fde6e472750&gt;),\n",
              "                                (&#x27;pipeline-3&#x27;,\n",
              "                                 Pipeline(steps=[(&#x27;simpleimputer&#x27;,\n",
              "                                                  SimpleImputer(fill_value=&#x27;missing&#x27;,\n",
              "                                                                strategy=&#x27;constant&#x27;)),\n",
              "                                                 (&#x27;onehotencoder&#x27;,\n",
              "                                                  OneHotEncoder(handle_unknown=&#x27;ignore&#x27;,\n",
              "                                                                sparse=False))]),\n",
              "                                 [&#x27;Item_Identifier&#x27;, &#x27;Item_Type&#x27;,\n",
              "                                  &#x27;Outlet_Identifier&#x27;, &#x27;Outlet_Location_Type&#x27;,\n",
              "                                  &#x27;Outlet_Type&#x27;])])</pre></div></div></div><div class=\"sk-parallel\"><div class=\"sk-parallel-item\"><div class=\"sk-item\"><div class=\"sk-label-container\"><div class=\"sk-label sk-toggleable\"><input class=\"sk-toggleable__control sk-hidden--visually\" id=\"7d38d53e-cf32-41d2-b42d-1236710ebb8f\" type=\"checkbox\" ><label for=\"7d38d53e-cf32-41d2-b42d-1236710ebb8f\" class=\"sk-toggleable__label sk-toggleable__label-arrow\">pipeline-1</label><div class=\"sk-toggleable__content\"><pre>[&#x27;Item_Fat_Content&#x27;, &#x27;Outlet_Size&#x27;]</pre></div></div></div><div class=\"sk-serial\"><div class=\"sk-item\"><div class=\"sk-serial\"><div class=\"sk-item\"><div class=\"sk-estimator sk-toggleable\"><input class=\"sk-toggleable__control sk-hidden--visually\" id=\"c8619191-88eb-428a-bfe2-8998e6529321\" type=\"checkbox\" ><label for=\"c8619191-88eb-428a-bfe2-8998e6529321\" class=\"sk-toggleable__label sk-toggleable__label-arrow\">SimpleImputer</label><div class=\"sk-toggleable__content\"><pre>SimpleImputer(strategy=&#x27;most_frequent&#x27;)</pre></div></div></div><div class=\"sk-item\"><div class=\"sk-estimator sk-toggleable\"><input class=\"sk-toggleable__control sk-hidden--visually\" id=\"afd1ea10-4e93-470f-9a4c-bbb92c8dd38c\" type=\"checkbox\" ><label for=\"afd1ea10-4e93-470f-9a4c-bbb92c8dd38c\" class=\"sk-toggleable__label sk-toggleable__label-arrow\">OrdinalEncoder</label><div class=\"sk-toggleable__content\"><pre>OrdinalEncoder(categories=[[&#x27;Low Fat&#x27;, &#x27;Regular&#x27;], [&#x27;Small&#x27;, &#x27;Medium&#x27;, &#x27;High&#x27;]])</pre></div></div></div></div></div></div></div></div><div class=\"sk-parallel-item\"><div class=\"sk-item\"><div class=\"sk-label-container\"><div class=\"sk-label sk-toggleable\"><input class=\"sk-toggleable__control sk-hidden--visually\" id=\"54f88f5e-cfe3-4275-beaa-2b8abaf203a6\" type=\"checkbox\" ><label for=\"54f88f5e-cfe3-4275-beaa-2b8abaf203a6\" class=\"sk-toggleable__label sk-toggleable__label-arrow\">pipeline-2</label><div class=\"sk-toggleable__content\"><pre>&lt;sklearn.compose._column_transformer.make_column_selector object at 0x7fde6e472750&gt;</pre></div></div></div><div class=\"sk-serial\"><div class=\"sk-item\"><div class=\"sk-serial\"><div class=\"sk-item\"><div class=\"sk-estimator sk-toggleable\"><input class=\"sk-toggleable__control sk-hidden--visually\" id=\"a8e4a372-b1ea-4945-9b30-f6941b6597fc\" type=\"checkbox\" ><label for=\"a8e4a372-b1ea-4945-9b30-f6941b6597fc\" class=\"sk-toggleable__label sk-toggleable__label-arrow\">SimpleImputer</label><div class=\"sk-toggleable__content\"><pre>SimpleImputer()</pre></div></div></div><div class=\"sk-item\"><div class=\"sk-estimator sk-toggleable\"><input class=\"sk-toggleable__control sk-hidden--visually\" id=\"a06a5034-9a35-413b-9ec4-780a7125b3e6\" type=\"checkbox\" ><label for=\"a06a5034-9a35-413b-9ec4-780a7125b3e6\" class=\"sk-toggleable__label sk-toggleable__label-arrow\">StandardScaler</label><div class=\"sk-toggleable__content\"><pre>StandardScaler()</pre></div></div></div></div></div></div></div></div><div class=\"sk-parallel-item\"><div class=\"sk-item\"><div class=\"sk-label-container\"><div class=\"sk-label sk-toggleable\"><input class=\"sk-toggleable__control sk-hidden--visually\" id=\"068bc425-1335-41c4-b35b-fb1fec153982\" type=\"checkbox\" ><label for=\"068bc425-1335-41c4-b35b-fb1fec153982\" class=\"sk-toggleable__label sk-toggleable__label-arrow\">pipeline-3</label><div class=\"sk-toggleable__content\"><pre>[&#x27;Item_Identifier&#x27;, &#x27;Item_Type&#x27;, &#x27;Outlet_Identifier&#x27;, &#x27;Outlet_Location_Type&#x27;, &#x27;Outlet_Type&#x27;]</pre></div></div></div><div class=\"sk-serial\"><div class=\"sk-item\"><div class=\"sk-serial\"><div class=\"sk-item\"><div class=\"sk-estimator sk-toggleable\"><input class=\"sk-toggleable__control sk-hidden--visually\" id=\"38646d63-bf6e-4c8b-8579-6fee62e582e6\" type=\"checkbox\" ><label for=\"38646d63-bf6e-4c8b-8579-6fee62e582e6\" class=\"sk-toggleable__label sk-toggleable__label-arrow\">SimpleImputer</label><div class=\"sk-toggleable__content\"><pre>SimpleImputer(fill_value=&#x27;missing&#x27;, strategy=&#x27;constant&#x27;)</pre></div></div></div><div class=\"sk-item\"><div class=\"sk-estimator sk-toggleable\"><input class=\"sk-toggleable__control sk-hidden--visually\" id=\"20f21934-1e41-433c-8089-bf1504114cc9\" type=\"checkbox\" ><label for=\"20f21934-1e41-433c-8089-bf1504114cc9\" class=\"sk-toggleable__label sk-toggleable__label-arrow\">OneHotEncoder</label><div class=\"sk-toggleable__content\"><pre>OneHotEncoder(handle_unknown=&#x27;ignore&#x27;, sparse=False)</pre></div></div></div></div></div></div></div></div></div></div></div></div>"
            ]
          },
          "metadata": {},
          "execution_count": 111
        }
      ]
    },
    {
      "cell_type": "code",
      "source": [
        "X_train_transformed = preprocessor.transform(X_train)\n",
        "\n",
        "X_test_transformed = preprocessor.transform(X_test)"
      ],
      "metadata": {
        "id": "FAEQw5jHJYhZ"
      },
      "execution_count": 112,
      "outputs": []
    },
    {
      "cell_type": "code",
      "source": [
        "print(X_train.isna().sum().sum(), 'missing values')\n",
        "X_train.info()"
      ],
      "metadata": {
        "colab": {
          "base_uri": "https://localhost:8080/"
        },
        "id": "lFXhbsftT-4g",
        "outputId": "1755f7df-9318-4693-c8f7-bab54cd2fd37"
      },
      "execution_count": 121,
      "outputs": [
        {
          "output_type": "stream",
          "name": "stdout",
          "text": [
            "0 missing values\n",
            "<class 'pandas.core.frame.DataFrame'>\n",
            "Int64Index: 6392 entries, 4776 to 7270\n",
            "Data columns (total 11 columns):\n",
            " #   Column                     Non-Null Count  Dtype  \n",
            "---  ------                     --------------  -----  \n",
            " 0   Item_Identifier            6392 non-null   object \n",
            " 1   Item_Weight                6392 non-null   float64\n",
            " 2   Item_Fat_Content           6392 non-null   object \n",
            " 3   Item_Visibility            6392 non-null   float64\n",
            " 4   Item_Type                  6392 non-null   object \n",
            " 5   Item_MRP                   6392 non-null   float64\n",
            " 6   Outlet_Identifier          6392 non-null   object \n",
            " 7   Outlet_Establishment_Year  6392 non-null   float64\n",
            " 8   Outlet_Size                6392 non-null   object \n",
            " 9   Outlet_Location_Type       6392 non-null   object \n",
            " 10  Outlet_Type                6392 non-null   object \n",
            "dtypes: float64(4), object(7)\n",
            "memory usage: 599.2+ KB\n"
          ]
        }
      ]
    }
  ]
}