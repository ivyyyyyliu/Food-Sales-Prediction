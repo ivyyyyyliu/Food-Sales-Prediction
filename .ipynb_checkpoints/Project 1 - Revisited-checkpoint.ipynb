{
 "cells": [
  {
   "cell_type": "code",
   "execution_count": 1,
   "id": "bc1f43bf",
   "metadata": {},
   "outputs": [],
   "source": [
    "## Our standard imports\n",
    "import pandas as pd\n",
    "import numpy as np\n",
    "import matplotlib.pyplot as plt\n",
    "import seaborn as sns\n",
    "import missingno as miss\n",
    "\n",
    "## Preprocessing tools\n",
    "from sklearn.model_selection import train_test_split\n",
    "from sklearn.compose import make_column_transformer, make_column_selector\n",
    "from sklearn.pipeline import make_pipeline\n",
    "from sklearn.preprocessing import OneHotEncoder, StandardScaler\n",
    "from sklearn.impute import SimpleImputer\n",
    "\n",
    "## Models & evaluation metrics\n",
    "from sklearn import metrics\n",
    "from sklearn.linear_model import LinearRegression\n",
    "from sklearn.tree import DecisionTreeRegressor\n",
    "from sklearn.ensemble import RandomForestRegressor\n",
    "import joblib\n",
    "\n",
    "## setting random state for reproducibility\n",
    "SEED = 321\n",
    "np.random.seed(SEED)\n",
    "## Matplotlib style\n",
    "fav_style = ('ggplot','tableau-colorblind10')\n",
    "fav_context  ={'context':'notebook', 'font_scale':1.1}\n",
    "plt.style.use(fav_style)\n",
    "sns.set_context(**fav_context)\n",
    "plt.rcParams['savefig.transparent'] = False\n",
    "plt.rcParams['savefig.bbox'] = 'tight'"
   ]
  },
  {
   "cell_type": "code",
   "execution_count": 2,
   "id": "3f95b71d",
   "metadata": {},
   "outputs": [
    {
     "name": "stdout",
     "output_type": "stream",
     "text": [
      "sklearn version: 1.1.3\n"
     ]
    },
    {
     "name": "stderr",
     "output_type": "stream",
     "text": [
      "& was unexpected at this time.\n"
     ]
    }
   ],
   "source": [
    "# Run the following command on your local computer to check the version of sklearn\n",
    "import sklearn\n",
    "\n",
    "!python --version\n",
    "print(f\"sklearn version: {sklearn.__version__}\")"
   ]
  },
  {
   "cell_type": "code",
   "execution_count": 3,
   "id": "214e9907",
   "metadata": {},
   "outputs": [
    {
     "name": "stdout",
     "output_type": "stream",
     "text": [
      "<class 'pandas.core.frame.DataFrame'>\n",
      "RangeIndex: 8523 entries, 0 to 8522\n",
      "Data columns (total 12 columns):\n",
      " #   Column                     Non-Null Count  Dtype  \n",
      "---  ------                     --------------  -----  \n",
      " 0   Item_Identifier            8523 non-null   object \n",
      " 1   Item_Weight                7060 non-null   float64\n",
      " 2   Item_Fat_Content           8523 non-null   object \n",
      " 3   Item_Visibility            8523 non-null   float64\n",
      " 4   Item_Type                  8523 non-null   object \n",
      " 5   Item_MRP                   8523 non-null   float64\n",
      " 6   Outlet_Identifier          8523 non-null   object \n",
      " 7   Outlet_Establishment_Year  8523 non-null   int64  \n",
      " 8   Outlet_Size                6113 non-null   object \n",
      " 9   Outlet_Location_Type       8523 non-null   object \n",
      " 10  Outlet_Type                8523 non-null   object \n",
      " 11  Item_Outlet_Sales          8523 non-null   float64\n",
      "dtypes: float64(4), int64(1), object(7)\n",
      "memory usage: 799.2+ KB\n"
     ]
    },
    {
     "data": {
      "text/html": [
       "<div>\n",
       "<style scoped>\n",
       "    .dataframe tbody tr th:only-of-type {\n",
       "        vertical-align: middle;\n",
       "    }\n",
       "\n",
       "    .dataframe tbody tr th {\n",
       "        vertical-align: top;\n",
       "    }\n",
       "\n",
       "    .dataframe thead th {\n",
       "        text-align: right;\n",
       "    }\n",
       "</style>\n",
       "<table border=\"1\" class=\"dataframe\">\n",
       "  <thead>\n",
       "    <tr style=\"text-align: right;\">\n",
       "      <th></th>\n",
       "      <th>Item_Identifier</th>\n",
       "      <th>Item_Weight</th>\n",
       "      <th>Item_Fat_Content</th>\n",
       "      <th>Item_Visibility</th>\n",
       "      <th>Item_Type</th>\n",
       "      <th>Item_MRP</th>\n",
       "      <th>Outlet_Identifier</th>\n",
       "      <th>Outlet_Establishment_Year</th>\n",
       "      <th>Outlet_Size</th>\n",
       "      <th>Outlet_Location_Type</th>\n",
       "      <th>Outlet_Type</th>\n",
       "      <th>Item_Outlet_Sales</th>\n",
       "    </tr>\n",
       "  </thead>\n",
       "  <tbody>\n",
       "    <tr>\n",
       "      <th>0</th>\n",
       "      <td>FDA15</td>\n",
       "      <td>9.30</td>\n",
       "      <td>Low Fat</td>\n",
       "      <td>0.016047</td>\n",
       "      <td>Dairy</td>\n",
       "      <td>249.8092</td>\n",
       "      <td>OUT049</td>\n",
       "      <td>1999</td>\n",
       "      <td>Medium</td>\n",
       "      <td>Tier 1</td>\n",
       "      <td>Supermarket Type1</td>\n",
       "      <td>3735.1380</td>\n",
       "    </tr>\n",
       "    <tr>\n",
       "      <th>1</th>\n",
       "      <td>DRC01</td>\n",
       "      <td>5.92</td>\n",
       "      <td>Regular</td>\n",
       "      <td>0.019278</td>\n",
       "      <td>Soft Drinks</td>\n",
       "      <td>48.2692</td>\n",
       "      <td>OUT018</td>\n",
       "      <td>2009</td>\n",
       "      <td>Medium</td>\n",
       "      <td>Tier 3</td>\n",
       "      <td>Supermarket Type2</td>\n",
       "      <td>443.4228</td>\n",
       "    </tr>\n",
       "    <tr>\n",
       "      <th>2</th>\n",
       "      <td>FDN15</td>\n",
       "      <td>17.50</td>\n",
       "      <td>Low Fat</td>\n",
       "      <td>0.016760</td>\n",
       "      <td>Meat</td>\n",
       "      <td>141.6180</td>\n",
       "      <td>OUT049</td>\n",
       "      <td>1999</td>\n",
       "      <td>Medium</td>\n",
       "      <td>Tier 1</td>\n",
       "      <td>Supermarket Type1</td>\n",
       "      <td>2097.2700</td>\n",
       "    </tr>\n",
       "    <tr>\n",
       "      <th>3</th>\n",
       "      <td>FDX07</td>\n",
       "      <td>19.20</td>\n",
       "      <td>Regular</td>\n",
       "      <td>0.000000</td>\n",
       "      <td>Fruits and Vegetables</td>\n",
       "      <td>182.0950</td>\n",
       "      <td>OUT010</td>\n",
       "      <td>1998</td>\n",
       "      <td>NaN</td>\n",
       "      <td>Tier 3</td>\n",
       "      <td>Grocery Store</td>\n",
       "      <td>732.3800</td>\n",
       "    </tr>\n",
       "    <tr>\n",
       "      <th>4</th>\n",
       "      <td>NCD19</td>\n",
       "      <td>8.93</td>\n",
       "      <td>Low Fat</td>\n",
       "      <td>0.000000</td>\n",
       "      <td>Household</td>\n",
       "      <td>53.8614</td>\n",
       "      <td>OUT013</td>\n",
       "      <td>1987</td>\n",
       "      <td>High</td>\n",
       "      <td>Tier 3</td>\n",
       "      <td>Supermarket Type1</td>\n",
       "      <td>994.7052</td>\n",
       "    </tr>\n",
       "  </tbody>\n",
       "</table>\n",
       "</div>"
      ],
      "text/plain": [
       "  Item_Identifier  Item_Weight Item_Fat_Content  Item_Visibility  \\\n",
       "0           FDA15         9.30          Low Fat         0.016047   \n",
       "1           DRC01         5.92          Regular         0.019278   \n",
       "2           FDN15        17.50          Low Fat         0.016760   \n",
       "3           FDX07        19.20          Regular         0.000000   \n",
       "4           NCD19         8.93          Low Fat         0.000000   \n",
       "\n",
       "               Item_Type  Item_MRP Outlet_Identifier  \\\n",
       "0                  Dairy  249.8092            OUT049   \n",
       "1            Soft Drinks   48.2692            OUT018   \n",
       "2                   Meat  141.6180            OUT049   \n",
       "3  Fruits and Vegetables  182.0950            OUT010   \n",
       "4              Household   53.8614            OUT013   \n",
       "\n",
       "   Outlet_Establishment_Year Outlet_Size Outlet_Location_Type  \\\n",
       "0                       1999      Medium               Tier 1   \n",
       "1                       2009      Medium               Tier 3   \n",
       "2                       1999      Medium               Tier 1   \n",
       "3                       1998         NaN               Tier 3   \n",
       "4                       1987        High               Tier 3   \n",
       "\n",
       "         Outlet_Type  Item_Outlet_Sales  \n",
       "0  Supermarket Type1          3735.1380  \n",
       "1  Supermarket Type2           443.4228  \n",
       "2  Supermarket Type1          2097.2700  \n",
       "3      Grocery Store           732.3800  \n",
       "4  Supermarket Type1           994.7052  "
      ]
     },
     "execution_count": 3,
     "metadata": {},
     "output_type": "execute_result"
    }
   ],
   "source": [
    "## Load in data\n",
    "df = pd.read_csv('Data/sales_predictions.csv')\n",
    "df.info()\n",
    "df.head()"
   ]
  },
  {
   "cell_type": "code",
   "execution_count": 4,
   "id": "c25925c8",
   "metadata": {},
   "outputs": [
    {
     "data": {
      "text/plain": [
       "Item_Identifier                 0\n",
       "Item_Weight                  1463\n",
       "Item_Fat_Content                0\n",
       "Item_Visibility                 0\n",
       "Item_Type                       0\n",
       "Item_MRP                        0\n",
       "Outlet_Identifier               0\n",
       "Outlet_Establishment_Year       0\n",
       "Outlet_Size                  2410\n",
       "Outlet_Location_Type            0\n",
       "Outlet_Type                     0\n",
       "Item_Outlet_Sales               0\n",
       "dtype: int64"
      ]
     },
     "execution_count": 4,
     "metadata": {},
     "output_type": "execute_result"
    }
   ],
   "source": [
    "df.isna().sum()"
   ]
  },
  {
   "cell_type": "code",
   "execution_count": 5,
   "id": "eeece46b",
   "metadata": {},
   "outputs": [
    {
     "data": {
      "text/plain": [
       "0"
      ]
     },
     "execution_count": 5,
     "metadata": {},
     "output_type": "execute_result"
    }
   ],
   "source": [
    "df.duplicated().sum()"
   ]
  },
  {
   "cell_type": "code",
   "execution_count": 6,
   "id": "72a9bd5a",
   "metadata": {},
   "outputs": [
    {
     "data": {
      "text/plain": [
       "Low Fat    5517\n",
       "Regular    3006\n",
       "Name: Item_Fat_Content, dtype: int64"
      ]
     },
     "execution_count": 6,
     "metadata": {},
     "output_type": "execute_result"
    }
   ],
   "source": [
    "df.replace(['LF','low fat'],['Low Fat','Low Fat'], inplace = True)\n",
    "df.replace(['reg'],['Regular'], inplace = True)\n",
    "df['Item_Fat_Content'].value_counts()"
   ]
  },
  {
   "cell_type": "code",
   "execution_count": 7,
   "id": "e788c823",
   "metadata": {},
   "outputs": [
    {
     "data": {
      "text/html": [
       "<div>\n",
       "<style scoped>\n",
       "    .dataframe tbody tr th:only-of-type {\n",
       "        vertical-align: middle;\n",
       "    }\n",
       "\n",
       "    .dataframe tbody tr th {\n",
       "        vertical-align: top;\n",
       "    }\n",
       "\n",
       "    .dataframe thead th {\n",
       "        text-align: right;\n",
       "    }\n",
       "</style>\n",
       "<table border=\"1\" class=\"dataframe\">\n",
       "  <thead>\n",
       "    <tr style=\"text-align: right;\">\n",
       "      <th></th>\n",
       "      <th>Item_Weight</th>\n",
       "      <th>Item_Fat_Content</th>\n",
       "      <th>Item_Visibility</th>\n",
       "      <th>Item_Type</th>\n",
       "      <th>Item_MRP</th>\n",
       "      <th>Outlet_Establishment_Year</th>\n",
       "      <th>Outlet_Size</th>\n",
       "      <th>Outlet_Type</th>\n",
       "    </tr>\n",
       "  </thead>\n",
       "  <tbody>\n",
       "    <tr>\n",
       "      <th>8269</th>\n",
       "      <td>7.220</td>\n",
       "      <td>Regular</td>\n",
       "      <td>0.064142</td>\n",
       "      <td>Baking Goods</td>\n",
       "      <td>61.2510</td>\n",
       "      <td>1998</td>\n",
       "      <td>NaN</td>\n",
       "      <td>Grocery Store</td>\n",
       "    </tr>\n",
       "    <tr>\n",
       "      <th>7604</th>\n",
       "      <td>6.135</td>\n",
       "      <td>Low Fat</td>\n",
       "      <td>0.079294</td>\n",
       "      <td>Soft Drinks</td>\n",
       "      <td>111.2860</td>\n",
       "      <td>2009</td>\n",
       "      <td>Medium</td>\n",
       "      <td>Supermarket Type2</td>\n",
       "    </tr>\n",
       "    <tr>\n",
       "      <th>2762</th>\n",
       "      <td>12.150</td>\n",
       "      <td>Low Fat</td>\n",
       "      <td>0.028593</td>\n",
       "      <td>Household</td>\n",
       "      <td>151.0708</td>\n",
       "      <td>2004</td>\n",
       "      <td>Small</td>\n",
       "      <td>Supermarket Type1</td>\n",
       "    </tr>\n",
       "    <tr>\n",
       "      <th>6464</th>\n",
       "      <td>5.945</td>\n",
       "      <td>Low Fat</td>\n",
       "      <td>0.093009</td>\n",
       "      <td>Household</td>\n",
       "      <td>127.8652</td>\n",
       "      <td>2004</td>\n",
       "      <td>Small</td>\n",
       "      <td>Supermarket Type1</td>\n",
       "    </tr>\n",
       "    <tr>\n",
       "      <th>4707</th>\n",
       "      <td>18.200</td>\n",
       "      <td>Regular</td>\n",
       "      <td>0.066285</td>\n",
       "      <td>Fruits and Vegetables</td>\n",
       "      <td>247.2092</td>\n",
       "      <td>2004</td>\n",
       "      <td>Small</td>\n",
       "      <td>Supermarket Type1</td>\n",
       "    </tr>\n",
       "  </tbody>\n",
       "</table>\n",
       "</div>"
      ],
      "text/plain": [
       "      Item_Weight Item_Fat_Content  Item_Visibility              Item_Type  \\\n",
       "8269        7.220          Regular         0.064142           Baking Goods   \n",
       "7604        6.135          Low Fat         0.079294            Soft Drinks   \n",
       "2762       12.150          Low Fat         0.028593              Household   \n",
       "6464        5.945          Low Fat         0.093009              Household   \n",
       "4707       18.200          Regular         0.066285  Fruits and Vegetables   \n",
       "\n",
       "      Item_MRP  Outlet_Establishment_Year Outlet_Size        Outlet_Type  \n",
       "8269   61.2510                       1998         NaN      Grocery Store  \n",
       "7604  111.2860                       2009      Medium  Supermarket Type2  \n",
       "2762  151.0708                       2004       Small  Supermarket Type1  \n",
       "6464  127.8652                       2004       Small  Supermarket Type1  \n",
       "4707  247.2092                       2004       Small  Supermarket Type1  "
      ]
     },
     "execution_count": 7,
     "metadata": {},
     "output_type": "execute_result"
    }
   ],
   "source": [
    "y = df['Item_Outlet_Sales']\n",
    "X = df.drop(columns=['Item_Outlet_Sales', 'Outlet_Identifier', 'Outlet_Location_Type', 'Item_Identifier'])\n",
    "\n",
    "## train-test-split with random state for reproducibility\n",
    "X_train, X_test, y_train, y_test = train_test_split(X,y, random_state=SEED)\n",
    "X_train.head()"
   ]
  },
  {
   "cell_type": "code",
   "execution_count": 8,
   "id": "9b05f627",
   "metadata": {},
   "outputs": [
    {
     "data": {
      "text/html": [
       "<style>#sk-container-id-1 {color: black;background-color: white;}#sk-container-id-1 pre{padding: 0;}#sk-container-id-1 div.sk-toggleable {background-color: white;}#sk-container-id-1 label.sk-toggleable__label {cursor: pointer;display: block;width: 100%;margin-bottom: 0;padding: 0.3em;box-sizing: border-box;text-align: center;}#sk-container-id-1 label.sk-toggleable__label-arrow:before {content: \"▸\";float: left;margin-right: 0.25em;color: #696969;}#sk-container-id-1 label.sk-toggleable__label-arrow:hover:before {color: black;}#sk-container-id-1 div.sk-estimator:hover label.sk-toggleable__label-arrow:before {color: black;}#sk-container-id-1 div.sk-toggleable__content {max-height: 0;max-width: 0;overflow: hidden;text-align: left;background-color: #f0f8ff;}#sk-container-id-1 div.sk-toggleable__content pre {margin: 0.2em;color: black;border-radius: 0.25em;background-color: #f0f8ff;}#sk-container-id-1 input.sk-toggleable__control:checked~div.sk-toggleable__content {max-height: 200px;max-width: 100%;overflow: auto;}#sk-container-id-1 input.sk-toggleable__control:checked~label.sk-toggleable__label-arrow:before {content: \"▾\";}#sk-container-id-1 div.sk-estimator input.sk-toggleable__control:checked~label.sk-toggleable__label {background-color: #d4ebff;}#sk-container-id-1 div.sk-label input.sk-toggleable__control:checked~label.sk-toggleable__label {background-color: #d4ebff;}#sk-container-id-1 input.sk-hidden--visually {border: 0;clip: rect(1px 1px 1px 1px);clip: rect(1px, 1px, 1px, 1px);height: 1px;margin: -1px;overflow: hidden;padding: 0;position: absolute;width: 1px;}#sk-container-id-1 div.sk-estimator {font-family: monospace;background-color: #f0f8ff;border: 1px dotted black;border-radius: 0.25em;box-sizing: border-box;margin-bottom: 0.5em;}#sk-container-id-1 div.sk-estimator:hover {background-color: #d4ebff;}#sk-container-id-1 div.sk-parallel-item::after {content: \"\";width: 100%;border-bottom: 1px solid gray;flex-grow: 1;}#sk-container-id-1 div.sk-label:hover label.sk-toggleable__label {background-color: #d4ebff;}#sk-container-id-1 div.sk-serial::before {content: \"\";position: absolute;border-left: 1px solid gray;box-sizing: border-box;top: 0;bottom: 0;left: 50%;z-index: 0;}#sk-container-id-1 div.sk-serial {display: flex;flex-direction: column;align-items: center;background-color: white;padding-right: 0.2em;padding-left: 0.2em;position: relative;}#sk-container-id-1 div.sk-item {position: relative;z-index: 1;}#sk-container-id-1 div.sk-parallel {display: flex;align-items: stretch;justify-content: center;background-color: white;position: relative;}#sk-container-id-1 div.sk-item::before, #sk-container-id-1 div.sk-parallel-item::before {content: \"\";position: absolute;border-left: 1px solid gray;box-sizing: border-box;top: 0;bottom: 0;left: 50%;z-index: -1;}#sk-container-id-1 div.sk-parallel-item {display: flex;flex-direction: column;z-index: 1;position: relative;background-color: white;}#sk-container-id-1 div.sk-parallel-item:first-child::after {align-self: flex-end;width: 50%;}#sk-container-id-1 div.sk-parallel-item:last-child::after {align-self: flex-start;width: 50%;}#sk-container-id-1 div.sk-parallel-item:only-child::after {width: 0;}#sk-container-id-1 div.sk-dashed-wrapped {border: 1px dashed gray;margin: 0 0.4em 0.5em 0.4em;box-sizing: border-box;padding-bottom: 0.4em;background-color: white;}#sk-container-id-1 div.sk-label label {font-family: monospace;font-weight: bold;display: inline-block;line-height: 1.2em;}#sk-container-id-1 div.sk-label-container {text-align: center;}#sk-container-id-1 div.sk-container {/* jupyter's `normalize.less` sets `[hidden] { display: none; }` but bootstrap.min.css set `[hidden] { display: none !important; }` so we also need the `!important` here to be able to override the default hidden behavior on the sphinx rendered scikit-learn.org. See: https://github.com/scikit-learn/scikit-learn/issues/21755 */display: inline-block !important;position: relative;}#sk-container-id-1 div.sk-text-repr-fallback {display: none;}</style><div id=\"sk-container-id-1\" class=\"sk-top-container\"><div class=\"sk-text-repr-fallback\"><pre>ColumnTransformer(transformers=[(&#x27;pipeline-1&#x27;,\n",
       "                                 Pipeline(steps=[(&#x27;simpleimputer&#x27;,\n",
       "                                                  SimpleImputer())]),\n",
       "                                 &lt;sklearn.compose._column_transformer.make_column_selector object at 0x000001605AA31130&gt;),\n",
       "                                (&#x27;pipeline-2&#x27;,\n",
       "                                 Pipeline(steps=[(&#x27;simpleimputer&#x27;,\n",
       "                                                  SimpleImputer(fill_value=&#x27;MISSING&#x27;,\n",
       "                                                                strategy=&#x27;constant&#x27;)),\n",
       "                                                 (&#x27;onehotencoder&#x27;,\n",
       "                                                  OneHotEncoder(handle_unknown=&#x27;ignore&#x27;,\n",
       "                                                                sparse=False))]),\n",
       "                                 &lt;sklearn.compose._column_transformer.make_column_selector object at 0x000001605AA31100&gt;)],\n",
       "                  verbose_feature_names_out=False)</pre><b>In a Jupyter environment, please rerun this cell to show the HTML representation or trust the notebook. <br />On GitHub, the HTML representation is unable to render, please try loading this page with nbviewer.org.</b></div><div class=\"sk-container\" hidden><div class=\"sk-item sk-dashed-wrapped\"><div class=\"sk-label-container\"><div class=\"sk-label sk-toggleable\"><input class=\"sk-toggleable__control sk-hidden--visually\" id=\"sk-estimator-id-1\" type=\"checkbox\" ><label for=\"sk-estimator-id-1\" class=\"sk-toggleable__label sk-toggleable__label-arrow\">ColumnTransformer</label><div class=\"sk-toggleable__content\"><pre>ColumnTransformer(transformers=[(&#x27;pipeline-1&#x27;,\n",
       "                                 Pipeline(steps=[(&#x27;simpleimputer&#x27;,\n",
       "                                                  SimpleImputer())]),\n",
       "                                 &lt;sklearn.compose._column_transformer.make_column_selector object at 0x000001605AA31130&gt;),\n",
       "                                (&#x27;pipeline-2&#x27;,\n",
       "                                 Pipeline(steps=[(&#x27;simpleimputer&#x27;,\n",
       "                                                  SimpleImputer(fill_value=&#x27;MISSING&#x27;,\n",
       "                                                                strategy=&#x27;constant&#x27;)),\n",
       "                                                 (&#x27;onehotencoder&#x27;,\n",
       "                                                  OneHotEncoder(handle_unknown=&#x27;ignore&#x27;,\n",
       "                                                                sparse=False))]),\n",
       "                                 &lt;sklearn.compose._column_transformer.make_column_selector object at 0x000001605AA31100&gt;)],\n",
       "                  verbose_feature_names_out=False)</pre></div></div></div><div class=\"sk-parallel\"><div class=\"sk-parallel-item\"><div class=\"sk-item\"><div class=\"sk-label-container\"><div class=\"sk-label sk-toggleable\"><input class=\"sk-toggleable__control sk-hidden--visually\" id=\"sk-estimator-id-2\" type=\"checkbox\" ><label for=\"sk-estimator-id-2\" class=\"sk-toggleable__label sk-toggleable__label-arrow\">pipeline-1</label><div class=\"sk-toggleable__content\"><pre>&lt;sklearn.compose._column_transformer.make_column_selector object at 0x000001605AA31130&gt;</pre></div></div></div><div class=\"sk-serial\"><div class=\"sk-item\"><div class=\"sk-serial\"><div class=\"sk-item\"><div class=\"sk-estimator sk-toggleable\"><input class=\"sk-toggleable__control sk-hidden--visually\" id=\"sk-estimator-id-3\" type=\"checkbox\" ><label for=\"sk-estimator-id-3\" class=\"sk-toggleable__label sk-toggleable__label-arrow\">SimpleImputer</label><div class=\"sk-toggleable__content\"><pre>SimpleImputer()</pre></div></div></div></div></div></div></div></div><div class=\"sk-parallel-item\"><div class=\"sk-item\"><div class=\"sk-label-container\"><div class=\"sk-label sk-toggleable\"><input class=\"sk-toggleable__control sk-hidden--visually\" id=\"sk-estimator-id-4\" type=\"checkbox\" ><label for=\"sk-estimator-id-4\" class=\"sk-toggleable__label sk-toggleable__label-arrow\">pipeline-2</label><div class=\"sk-toggleable__content\"><pre>&lt;sklearn.compose._column_transformer.make_column_selector object at 0x000001605AA31100&gt;</pre></div></div></div><div class=\"sk-serial\"><div class=\"sk-item\"><div class=\"sk-serial\"><div class=\"sk-item\"><div class=\"sk-estimator sk-toggleable\"><input class=\"sk-toggleable__control sk-hidden--visually\" id=\"sk-estimator-id-5\" type=\"checkbox\" ><label for=\"sk-estimator-id-5\" class=\"sk-toggleable__label sk-toggleable__label-arrow\">SimpleImputer</label><div class=\"sk-toggleable__content\"><pre>SimpleImputer(fill_value=&#x27;MISSING&#x27;, strategy=&#x27;constant&#x27;)</pre></div></div></div><div class=\"sk-item\"><div class=\"sk-estimator sk-toggleable\"><input class=\"sk-toggleable__control sk-hidden--visually\" id=\"sk-estimator-id-6\" type=\"checkbox\" ><label for=\"sk-estimator-id-6\" class=\"sk-toggleable__label sk-toggleable__label-arrow\">OneHotEncoder</label><div class=\"sk-toggleable__content\"><pre>OneHotEncoder(handle_unknown=&#x27;ignore&#x27;, sparse=False)</pre></div></div></div></div></div></div></div></div></div></div></div></div>"
      ],
      "text/plain": [
       "ColumnTransformer(transformers=[('pipeline-1',\n",
       "                                 Pipeline(steps=[('simpleimputer',\n",
       "                                                  SimpleImputer())]),\n",
       "                                 <sklearn.compose._column_transformer.make_column_selector object at 0x000001605AA31130>),\n",
       "                                ('pipeline-2',\n",
       "                                 Pipeline(steps=[('simpleimputer',\n",
       "                                                  SimpleImputer(fill_value='MISSING',\n",
       "                                                                strategy='constant')),\n",
       "                                                 ('onehotencoder',\n",
       "                                                  OneHotEncoder(handle_unknown='ignore',\n",
       "                                                                sparse=False))]),\n",
       "                                 <sklearn.compose._column_transformer.make_column_selector object at 0x000001605AA31100>)],\n",
       "                  verbose_feature_names_out=False)"
      ]
     },
     "execution_count": 8,
     "metadata": {},
     "output_type": "execute_result"
    }
   ],
   "source": [
    "## make pipelines for categorical vs numeric data\n",
    "cat_sel = make_column_selector(dtype_include='object')\n",
    "cat_pipe = make_pipeline(SimpleImputer(strategy='constant',\n",
    "                                       fill_value='MISSING'),\n",
    "                         OneHotEncoder(handle_unknown='ignore', sparse=False))\n",
    "\n",
    "num_sel = make_column_selector(dtype_include='number')\n",
    "num_pipe = make_pipeline(SimpleImputer(strategy='mean'))\n",
    "\n",
    "\n",
    "## make the preprocessing column transformer with verbose_feature_names_out=False\n",
    "preprocessor = make_column_transformer((num_pipe, num_sel),\n",
    "                                       (cat_pipe,cat_sel),\n",
    "                                      verbose_feature_names_out=False)\n",
    "preprocessor"
   ]
  },
  {
   "cell_type": "code",
   "execution_count": 9,
   "id": "6daaf6f8",
   "metadata": {},
   "outputs": [
    {
     "data": {
      "text/html": [
       "<div>\n",
       "<style scoped>\n",
       "    .dataframe tbody tr th:only-of-type {\n",
       "        vertical-align: middle;\n",
       "    }\n",
       "\n",
       "    .dataframe tbody tr th {\n",
       "        vertical-align: top;\n",
       "    }\n",
       "\n",
       "    .dataframe thead th {\n",
       "        text-align: right;\n",
       "    }\n",
       "</style>\n",
       "<table border=\"1\" class=\"dataframe\">\n",
       "  <thead>\n",
       "    <tr style=\"text-align: right;\">\n",
       "      <th></th>\n",
       "      <th>Item_Weight</th>\n",
       "      <th>Item_Visibility</th>\n",
       "      <th>Item_MRP</th>\n",
       "      <th>Outlet_Establishment_Year</th>\n",
       "      <th>Item_Fat_Content_Low Fat</th>\n",
       "      <th>Item_Fat_Content_Regular</th>\n",
       "      <th>Item_Type_Baking Goods</th>\n",
       "      <th>Item_Type_Breads</th>\n",
       "      <th>Item_Type_Breakfast</th>\n",
       "      <th>Item_Type_Canned</th>\n",
       "      <th>...</th>\n",
       "      <th>Item_Type_Soft Drinks</th>\n",
       "      <th>Item_Type_Starchy Foods</th>\n",
       "      <th>Outlet_Size_High</th>\n",
       "      <th>Outlet_Size_MISSING</th>\n",
       "      <th>Outlet_Size_Medium</th>\n",
       "      <th>Outlet_Size_Small</th>\n",
       "      <th>Outlet_Type_Grocery Store</th>\n",
       "      <th>Outlet_Type_Supermarket Type1</th>\n",
       "      <th>Outlet_Type_Supermarket Type2</th>\n",
       "      <th>Outlet_Type_Supermarket Type3</th>\n",
       "    </tr>\n",
       "  </thead>\n",
       "  <tbody>\n",
       "    <tr>\n",
       "      <th>8077</th>\n",
       "      <td>15.25</td>\n",
       "      <td>0.061531</td>\n",
       "      <td>132.2968</td>\n",
       "      <td>2007.0</td>\n",
       "      <td>1.0</td>\n",
       "      <td>0.0</td>\n",
       "      <td>0.0</td>\n",
       "      <td>0.0</td>\n",
       "      <td>0.0</td>\n",
       "      <td>0.0</td>\n",
       "      <td>...</td>\n",
       "      <td>0.0</td>\n",
       "      <td>0.0</td>\n",
       "      <td>0.0</td>\n",
       "      <td>1.0</td>\n",
       "      <td>0.0</td>\n",
       "      <td>0.0</td>\n",
       "      <td>0.0</td>\n",
       "      <td>1.0</td>\n",
       "      <td>0.0</td>\n",
       "      <td>0.0</td>\n",
       "    </tr>\n",
       "    <tr>\n",
       "      <th>2391</th>\n",
       "      <td>17.85</td>\n",
       "      <td>0.044463</td>\n",
       "      <td>127.1020</td>\n",
       "      <td>1997.0</td>\n",
       "      <td>1.0</td>\n",
       "      <td>0.0</td>\n",
       "      <td>0.0</td>\n",
       "      <td>0.0</td>\n",
       "      <td>0.0</td>\n",
       "      <td>0.0</td>\n",
       "      <td>...</td>\n",
       "      <td>0.0</td>\n",
       "      <td>0.0</td>\n",
       "      <td>0.0</td>\n",
       "      <td>0.0</td>\n",
       "      <td>0.0</td>\n",
       "      <td>1.0</td>\n",
       "      <td>0.0</td>\n",
       "      <td>1.0</td>\n",
       "      <td>0.0</td>\n",
       "      <td>0.0</td>\n",
       "    </tr>\n",
       "    <tr>\n",
       "      <th>163</th>\n",
       "      <td>7.27</td>\n",
       "      <td>0.071078</td>\n",
       "      <td>114.2518</td>\n",
       "      <td>1997.0</td>\n",
       "      <td>1.0</td>\n",
       "      <td>0.0</td>\n",
       "      <td>0.0</td>\n",
       "      <td>0.0</td>\n",
       "      <td>0.0</td>\n",
       "      <td>0.0</td>\n",
       "      <td>...</td>\n",
       "      <td>1.0</td>\n",
       "      <td>0.0</td>\n",
       "      <td>0.0</td>\n",
       "      <td>0.0</td>\n",
       "      <td>0.0</td>\n",
       "      <td>1.0</td>\n",
       "      <td>0.0</td>\n",
       "      <td>1.0</td>\n",
       "      <td>0.0</td>\n",
       "      <td>0.0</td>\n",
       "    </tr>\n",
       "  </tbody>\n",
       "</table>\n",
       "<p>3 rows × 30 columns</p>\n",
       "</div>"
      ],
      "text/plain": [
       "      Item_Weight  Item_Visibility  Item_MRP  Outlet_Establishment_Year  \\\n",
       "8077        15.25         0.061531  132.2968                     2007.0   \n",
       "2391        17.85         0.044463  127.1020                     1997.0   \n",
       "163          7.27         0.071078  114.2518                     1997.0   \n",
       "\n",
       "      Item_Fat_Content_Low Fat  Item_Fat_Content_Regular  \\\n",
       "8077                       1.0                       0.0   \n",
       "2391                       1.0                       0.0   \n",
       "163                        1.0                       0.0   \n",
       "\n",
       "      Item_Type_Baking Goods  Item_Type_Breads  Item_Type_Breakfast  \\\n",
       "8077                     0.0               0.0                  0.0   \n",
       "2391                     0.0               0.0                  0.0   \n",
       "163                      0.0               0.0                  0.0   \n",
       "\n",
       "      Item_Type_Canned  ...  Item_Type_Soft Drinks  Item_Type_Starchy Foods  \\\n",
       "8077               0.0  ...                    0.0                      0.0   \n",
       "2391               0.0  ...                    0.0                      0.0   \n",
       "163                0.0  ...                    1.0                      0.0   \n",
       "\n",
       "      Outlet_Size_High  Outlet_Size_MISSING  Outlet_Size_Medium  \\\n",
       "8077               0.0                  1.0                 0.0   \n",
       "2391               0.0                  0.0                 0.0   \n",
       "163                0.0                  0.0                 0.0   \n",
       "\n",
       "      Outlet_Size_Small  Outlet_Type_Grocery Store  \\\n",
       "8077                0.0                        0.0   \n",
       "2391                1.0                        0.0   \n",
       "163                 1.0                        0.0   \n",
       "\n",
       "      Outlet_Type_Supermarket Type1  Outlet_Type_Supermarket Type2  \\\n",
       "8077                            1.0                            0.0   \n",
       "2391                            1.0                            0.0   \n",
       "163                             1.0                            0.0   \n",
       "\n",
       "      Outlet_Type_Supermarket Type3  \n",
       "8077                            0.0  \n",
       "2391                            0.0  \n",
       "163                             0.0  \n",
       "\n",
       "[3 rows x 30 columns]"
      ]
     },
     "execution_count": 9,
     "metadata": {},
     "output_type": "execute_result"
    }
   ],
   "source": [
    "## fit column transformer and run get_feature_names_out\n",
    "preprocessor.fit(X_train)\n",
    "feature_names = preprocessor.get_feature_names_out()\n",
    "\n",
    "X_train_df = pd.DataFrame(preprocessor.transform(X_train), \n",
    "                          columns = feature_names, index = X_train.index)\n",
    "\n",
    "X_test_df = pd.DataFrame(preprocessor.transform(X_test), \n",
    "                          columns = feature_names, index = X_test.index)\n",
    "X_test_df.head(3)"
   ]
  },
  {
   "cell_type": "markdown",
   "id": "1157e86a",
   "metadata": {},
   "source": [
    "# LinearRegression"
   ]
  },
  {
   "cell_type": "code",
   "execution_count": 10,
   "id": "6ede1a9a",
   "metadata": {},
   "outputs": [],
   "source": [
    "def evaluate_regression(model, X_train,y_train, X_test, y_test,for_slides=True): \n",
    "    \"\"\"Evaluates a scikit learn regression model using r-squared and RMSE\n",
    "    FOR SLIDES VERS DOES MULTIPLE PRINT STATEMENTS FOR VERTICAL DISPLAY OF INFO\"\"\"\n",
    "    \n",
    "    ## Training Data\n",
    "    y_pred_train = model.predict(X_train)\n",
    "    r2_train = metrics.r2_score(y_train, y_pred_train)\n",
    "    rmse_train = metrics.mean_squared_error(y_train, y_pred_train, \n",
    "                                            squared=False)\n",
    "    mae_train = metrics.mean_absolute_error(y_train, y_pred_train)\n",
    "    \n",
    "\n",
    "    ## Test Data\n",
    "    y_pred_test = model.predict(X_test)\n",
    "    r2_test = metrics.r2_score(y_test, y_pred_test)\n",
    "    rmse_test = metrics.mean_squared_error(y_test, y_pred_test, \n",
    "                                            squared=False)\n",
    "    mae_test = metrics.mean_absolute_error(y_test, y_pred_test)\n",
    "    \n",
    "    if for_slides:\n",
    "        df_version =[['Split','R^2','MAE','RMSE']]\n",
    "        df_version.append(['Train',r2_train, mae_train, rmse_train])\n",
    "        df_version.append(['Test',r2_test, mae_test, rmse_test])\n",
    "        df_results = pd.DataFrame(df_version[1:], columns=df_version[0])\n",
    "        df_results = df_results.round(2)\n",
    "        display(df_results.style.hide(axis='index').format(precision=2, thousands=','))\n",
    "        \n",
    "    else: \n",
    "        print(f\"Training Data:\\tR^2 = {r2_train:,.2f}\\tRMSE = {rmse_train:,.2f}\\tMAE = {mae_train:,.2f}\")\n",
    "        print(f\"Test Data:\\tR^2 = {r2_test:,.2f}\\tRMSE = {rmse_test:,.2f}\\tMAE = {mae_test:,.2f}\")"
   ]
  },
  {
   "cell_type": "code",
   "execution_count": 11,
   "id": "79336a74",
   "metadata": {},
   "outputs": [
    {
     "data": {
      "text/html": [
       "<style type=\"text/css\">\n",
       "</style>\n",
       "<table id=\"T_00283\">\n",
       "  <thead>\n",
       "    <tr>\n",
       "      <th id=\"T_00283_level0_col0\" class=\"col_heading level0 col0\" >Split</th>\n",
       "      <th id=\"T_00283_level0_col1\" class=\"col_heading level0 col1\" >R^2</th>\n",
       "      <th id=\"T_00283_level0_col2\" class=\"col_heading level0 col2\" >MAE</th>\n",
       "      <th id=\"T_00283_level0_col3\" class=\"col_heading level0 col3\" >RMSE</th>\n",
       "    </tr>\n",
       "  </thead>\n",
       "  <tbody>\n",
       "    <tr>\n",
       "      <td id=\"T_00283_row0_col0\" class=\"data row0 col0\" >Train</td>\n",
       "      <td id=\"T_00283_row0_col1\" class=\"data row0 col1\" >0.56</td>\n",
       "      <td id=\"T_00283_row0_col2\" class=\"data row0 col2\" >826.99</td>\n",
       "      <td id=\"T_00283_row0_col3\" class=\"data row0 col3\" >1,115.40</td>\n",
       "    </tr>\n",
       "    <tr>\n",
       "      <td id=\"T_00283_row1_col0\" class=\"data row1 col0\" >Test</td>\n",
       "      <td id=\"T_00283_row1_col1\" class=\"data row1 col1\" >0.56</td>\n",
       "      <td id=\"T_00283_row1_col2\" class=\"data row1 col2\" >859.62</td>\n",
       "      <td id=\"T_00283_row1_col3\" class=\"data row1 col3\" >1,164.52</td>\n",
       "    </tr>\n",
       "  </tbody>\n",
       "</table>\n"
      ],
      "text/plain": [
       "<pandas.io.formats.style.Styler at 0x1605aa31dc0>"
      ]
     },
     "metadata": {},
     "output_type": "display_data"
    }
   ],
   "source": [
    "from sklearn.linear_model import LinearRegression\n",
    "lin_reg= LinearRegression()\n",
    "lin_reg.fit(X_train_df,y_train)\n",
    "evaluate_regression(lin_reg, X_train_df, y_train, \n",
    "                    X_test_df, y_test)"
   ]
  },
  {
   "cell_type": "code",
   "execution_count": 12,
   "id": "bee8fb3a",
   "metadata": {},
   "outputs": [],
   "source": [
    "def get_coefficients(lin_reg):\n",
    "    coeffs = pd.Series(lin_reg.coef_, index= lin_reg.feature_names_in_)\n",
    "    coeffs.loc['intercept'] = lin_reg.intercept_\n",
    "    return coeffs"
   ]
  },
  {
   "cell_type": "code",
   "execution_count": 13,
   "id": "c9399828",
   "metadata": {},
   "outputs": [
    {
     "data": {
      "text/plain": [
       "Item_Weight                            1.087961\n",
       "Item_Visibility                     -264.186859\n",
       "Item_MRP                              15.593866\n",
       "Outlet_Establishment_Year             19.039494\n",
       "Item_Fat_Content_Low Fat             -15.350851\n",
       "Item_Fat_Content_Regular              15.350851\n",
       "Item_Type_Baking Goods                 8.845751\n",
       "Item_Type_Breads                      -4.381286\n",
       "Item_Type_Breakfast                   70.466930\n",
       "Item_Type_Canned                      22.688608\n",
       "Item_Type_Dairy                      -47.897124\n",
       "Item_Type_Frozen Foods                -5.161859\n",
       "Item_Type_Fruits and Vegetables       15.778411\n",
       "Item_Type_Hard Drinks                 45.506443\n",
       "Item_Type_Health and Hygiene         -41.149870\n",
       "Item_Type_Household                  -69.797691\n",
       "Item_Type_Meat                       -16.071190\n",
       "Item_Type_Others                      19.974397\n",
       "Item_Type_Seafood                     99.718381\n",
       "Item_Type_Snack Foods                -11.102988\n",
       "Item_Type_Soft Drinks               -117.309988\n",
       "Item_Type_Starchy Foods               29.893073\n",
       "Outlet_Size_High                     203.851355\n",
       "Outlet_Size_MISSING                 -188.959389\n",
       "Outlet_Size_Medium                     4.765103\n",
       "Outlet_Size_Small                    -19.657069\n",
       "Outlet_Type_Grocery Store          -1553.600138\n",
       "Outlet_Type_Supermarket Type1        167.251042\n",
       "Outlet_Type_Supermarket Type2       -378.423632\n",
       "Outlet_Type_Supermarket Type3       1764.772727\n",
       "intercept                         -38066.347316\n",
       "dtype: float64"
      ]
     },
     "execution_count": 13,
     "metadata": {},
     "output_type": "execute_result"
    }
   ],
   "source": [
    "coeffs = get_coefficients(lin_reg)\n",
    "coeffs"
   ]
  },
  {
   "cell_type": "code",
   "execution_count": 14,
   "id": "104a4aa6",
   "metadata": {},
   "outputs": [],
   "source": [
    "## formatting numbers to not use , thousands sep, and 4 digits floats\n",
    "pd.set_option('display.float_format',lambda x: f\"{x:,.4f}\")\n",
    "pd.set_option('display.max_rows', None)"
   ]
  },
  {
   "cell_type": "code",
   "execution_count": 15,
   "id": "f147169b",
   "metadata": {},
   "outputs": [
    {
     "data": {
      "text/plain": [
       "intercept                         -38,066.3473\n",
       "Outlet_Type_Grocery Store          -1,553.6001\n",
       "Outlet_Type_Supermarket Type2        -378.4236\n",
       "Item_Visibility                      -264.1869\n",
       "Outlet_Size_MISSING                  -188.9594\n",
       "Item_Type_Soft Drinks                -117.3100\n",
       "Item_Type_Household                   -69.7977\n",
       "Item_Type_Dairy                       -47.8971\n",
       "Item_Type_Health and Hygiene          -41.1499\n",
       "Outlet_Size_Small                     -19.6571\n",
       "Item_Type_Meat                        -16.0712\n",
       "Item_Fat_Content_Low Fat              -15.3509\n",
       "Item_Type_Snack Foods                 -11.1030\n",
       "Item_Type_Frozen Foods                 -5.1619\n",
       "Item_Type_Breads                       -4.3813\n",
       "Item_Weight                             1.0880\n",
       "Outlet_Size_Medium                      4.7651\n",
       "Item_Type_Baking Goods                  8.8458\n",
       "Item_Fat_Content_Regular               15.3509\n",
       "Item_MRP                               15.5939\n",
       "Item_Type_Fruits and Vegetables        15.7784\n",
       "Outlet_Establishment_Year              19.0395\n",
       "Item_Type_Others                       19.9744\n",
       "Item_Type_Canned                       22.6886\n",
       "Item_Type_Starchy Foods                29.8931\n",
       "Item_Type_Hard Drinks                  45.5064\n",
       "Item_Type_Breakfast                    70.4669\n",
       "Item_Type_Seafood                      99.7184\n",
       "Outlet_Type_Supermarket Type1         167.2510\n",
       "Outlet_Size_High                      203.8514\n",
       "Outlet_Type_Supermarket Type3       1,764.7727\n",
       "dtype: float64"
      ]
     },
     "execution_count": 15,
     "metadata": {},
     "output_type": "execute_result"
    }
   ],
   "source": [
    "coeffs.sort_values()"
   ]
  },
  {
   "cell_type": "code",
   "execution_count": 16,
   "id": "fd2830e6",
   "metadata": {},
   "outputs": [
    {
     "data": {
      "text/plain": [
       "16"
      ]
     },
     "execution_count": 16,
     "metadata": {},
     "output_type": "execute_result"
    }
   ],
   "source": [
    "## Get a list of all of the ohe columsn\n",
    "Item_Type_feats = [c for c in X_train_df.columns if c.startswith('Item_Type')]\n",
    "len(Item_Type_feats)"
   ]
  },
  {
   "cell_type": "code",
   "execution_count": 17,
   "id": "b3a48c15",
   "metadata": {},
   "outputs": [
    {
     "data": {
      "image/png": "[encoded data removed]",
      "text/plain": [
       "<Figure size 500x500 with 1 Axes>"
      ]
     },
     "metadata": {},
     "output_type": "display_data"
    }
   ],
   "source": [
    "## Plot country ceoffs\n",
    "ax = coeffs[Item_Type_feats].sort_values().plot(kind='barh', figsize=(5,5))\n",
    "ax.axvline(0, color='k')\n",
    "ax.set(xlabel='Sales', title=\"Coefficients - Item Type\");"
   ]
  },
  {
   "cell_type": "code",
   "execution_count": 18,
   "id": "2ad29f54",
   "metadata": {},
   "outputs": [
    {
     "data": {
      "image/png": "[encoded data removed]",
      "text/plain": [
       "<Figure size 500x500 with 1 Axes>"
      ]
     },
     "metadata": {},
     "output_type": "display_data"
    }
   ],
   "source": [
    "## Plot everything but item identifier\n",
    "ax = coeffs.drop(Item_Type_feats).sort_values().plot(kind='barh', figsize=(5,5))\n",
    "ax.axvline(0)\n",
    "ax.set(xlabel='Sales', title=\"Coefficients\");\n",
    "\n",
    "plt.savefig('Data/coeffs.png')"
   ]
  },
  {
   "cell_type": "markdown",
   "id": "c1a643e7",
   "metadata": {},
   "source": [
    "## Top 3 Most impactful features"
   ]
  },
  {
   "cell_type": "markdown",
   "id": "e22c366e",
   "metadata": {},
   "source": [
    "From above coefficients graph, we know that these are the Top 3 Most impactful Features:\n",
    "\n",
    "- Outlet Type Supermarket Type 3\n",
    " - Have the highest coefficients among features which that Type 3 Supermarket have more sales than others.\n",
    " \n",
    "- Outlet Size High\n",
    " - Sales tend to be better in bigger size outlet.\n",
    " \n",
    "- Outlet Type Supermarket Type 1\n",
    " - Type 1 Supermarket have better sales than Type 2 but not Type 3 which is has the highest coefficients.\n",
    " "
   ]
  },
  {
   "cell_type": "markdown",
   "id": "916abf38",
   "metadata": {},
   "source": [
    "# Tree-Based Model"
   ]
  },
  {
   "cell_type": "code",
   "execution_count": 19,
   "id": "92ead38a",
   "metadata": {},
   "outputs": [
    {
     "data": {
      "text/html": [
       "<style type=\"text/css\">\n",
       "</style>\n",
       "<table id=\"T_98c13\">\n",
       "  <thead>\n",
       "    <tr>\n",
       "      <th id=\"T_98c13_level0_col0\" class=\"col_heading level0 col0\" >Split</th>\n",
       "      <th id=\"T_98c13_level0_col1\" class=\"col_heading level0 col1\" >R^2</th>\n",
       "      <th id=\"T_98c13_level0_col2\" class=\"col_heading level0 col2\" >MAE</th>\n",
       "      <th id=\"T_98c13_level0_col3\" class=\"col_heading level0 col3\" >RMSE</th>\n",
       "    </tr>\n",
       "  </thead>\n",
       "  <tbody>\n",
       "    <tr>\n",
       "      <td id=\"T_98c13_row0_col0\" class=\"data row0 col0\" >Train</td>\n",
       "      <td id=\"T_98c13_row0_col1\" class=\"data row0 col1\" >0.94</td>\n",
       "      <td id=\"T_98c13_row0_col2\" class=\"data row0 col2\" >295.11</td>\n",
       "      <td id=\"T_98c13_row0_col3\" class=\"data row0 col3\" >426.87</td>\n",
       "    </tr>\n",
       "    <tr>\n",
       "      <td id=\"T_98c13_row1_col0\" class=\"data row1 col0\" >Test</td>\n",
       "      <td id=\"T_98c13_row1_col1\" class=\"data row1 col1\" >0.56</td>\n",
       "      <td id=\"T_98c13_row1_col2\" class=\"data row1 col2\" >820.63</td>\n",
       "      <td id=\"T_98c13_row1_col3\" class=\"data row1 col3\" >1,169.09</td>\n",
       "    </tr>\n",
       "  </tbody>\n",
       "</table>\n"
      ],
      "text/plain": [
       "<pandas.io.formats.style.Styler at 0x16055f604c0>"
      ]
     },
     "metadata": {},
     "output_type": "display_data"
    }
   ],
   "source": [
    "reg = RandomForestRegressor(random_state=SEED)\n",
    "reg.fit(X_train_df,y_train)\n",
    "evaluate_regression(reg, X_train_df, y_train, X_test_df, y_test)"
   ]
  },
  {
   "cell_type": "code",
   "execution_count": 20,
   "id": "a1627562",
   "metadata": {},
   "outputs": [
    {
     "data": {
      "text/plain": [
       "Item_Weight                       0.0534\n",
       "Item_Visibility                   0.1007\n",
       "Item_MRP                          0.4480\n",
       "Outlet_Establishment_Year         0.0398\n",
       "Item_Fat_Content_Low Fat          0.0050\n",
       "Item_Fat_Content_Regular          0.0048\n",
       "Item_Type_Baking Goods            0.0045\n",
       "Item_Type_Breads                  0.0030\n",
       "Item_Type_Breakfast               0.0025\n",
       "Item_Type_Canned                  0.0042\n",
       "Item_Type_Dairy                   0.0056\n",
       "Item_Type_Frozen Foods            0.0057\n",
       "Item_Type_Fruits and Vegetables   0.0082\n",
       "Item_Type_Hard Drinks             0.0029\n",
       "Item_Type_Health and Hygiene      0.0043\n",
       "Item_Type_Household               0.0062\n",
       "Item_Type_Meat                    0.0037\n",
       "Item_Type_Others                  0.0016\n",
       "Item_Type_Seafood                 0.0015\n",
       "Item_Type_Snack Foods             0.0079\n",
       "Item_Type_Soft Drinks             0.0042\n",
       "Item_Type_Starchy Foods           0.0028\n",
       "Outlet_Size_High                  0.0032\n",
       "Outlet_Size_MISSING               0.0060\n",
       "Outlet_Size_Medium                0.0057\n",
       "Outlet_Size_Small                 0.0074\n",
       "Outlet_Type_Grocery Store         0.1968\n",
       "Outlet_Type_Supermarket Type1     0.0025\n",
       "Outlet_Type_Supermarket Type2     0.0019\n",
       "Outlet_Type_Supermarket Type3     0.0562\n",
       "dtype: float64"
      ]
     },
     "execution_count": 20,
     "metadata": {},
     "output_type": "execute_result"
    }
   ],
   "source": [
    "## Saving the coefficients\n",
    "importances = pd.Series(reg.feature_importances_, index= reg.feature_names_in_)\n",
    "importances"
   ]
  },
  {
   "cell_type": "code",
   "execution_count": 21,
   "id": "884e9a29",
   "metadata": {},
   "outputs": [
    {
     "data": {
      "image/png": "[encoded data removed]",
      "text/plain": [
       "<Figure size 500x500 with 1 Axes>"
      ]
     },
     "metadata": {},
     "output_type": "display_data"
    }
   ],
   "source": [
    "ax = importances.sort_values().tail(5).plot(kind='barh',figsize=(5,5))\n",
    "ax.axvline(0, color='k')\n",
    "ax.set(title='Feature Importance',ylabel=\"Feature\",\n",
    "      xlabel='Importance');\n",
    "\n",
    "plt.savefig('Data/importances.png', bbox_inches=\"tight\")"
   ]
  },
  {
   "cell_type": "markdown",
   "id": "6278f5a7",
   "metadata": {},
   "source": [
    "## Top 5 most important features:\n",
    "\n",
    "- Item MRP\n",
    "    - Item Market Retail Price are the most important factor for Sales.\n",
    "- Outlet Type Grocery Store\n",
    " - Grocery Store has better sales than other outlet types.\n",
    "- Item Visibility\n",
    " - its important to have good visibility for selling items, better visibility more likely to engage with consumers and maximise sales.\n",
    "- Outlet Type Supermarket Type3\n",
    "  - People are likely to go to type 3, it could be the interior design/ style of the supermarket or size tend to have more people like to go there.\n",
    "- Item Weight \n",
    " - Item Weights are matter so people could probably tend to do online delivery for heavier items.\n"
   ]
  },
  {
   "cell_type": "markdown",
   "id": "439c9611",
   "metadata": {},
   "source": [
    "# Serialize Our Best Model with Joblib"
   ]
  },
  {
   "cell_type": "code",
   "execution_count": 22,
   "id": "c5c78e30",
   "metadata": {},
   "outputs": [
    {
     "data": {
      "text/html": [
       "<style type=\"text/css\">\n",
       "</style>\n",
       "<table id=\"T_db2f3\">\n",
       "  <thead>\n",
       "    <tr>\n",
       "      <th id=\"T_db2f3_level0_col0\" class=\"col_heading level0 col0\" >Split</th>\n",
       "      <th id=\"T_db2f3_level0_col1\" class=\"col_heading level0 col1\" >R^2</th>\n",
       "      <th id=\"T_db2f3_level0_col2\" class=\"col_heading level0 col2\" >MAE</th>\n",
       "      <th id=\"T_db2f3_level0_col3\" class=\"col_heading level0 col3\" >RMSE</th>\n",
       "    </tr>\n",
       "  </thead>\n",
       "  <tbody>\n",
       "    <tr>\n",
       "      <td id=\"T_db2f3_row0_col0\" class=\"data row0 col0\" >Train</td>\n",
       "      <td id=\"T_db2f3_row0_col1\" class=\"data row0 col1\" >0.94</td>\n",
       "      <td id=\"T_db2f3_row0_col2\" class=\"data row0 col2\" >295.11</td>\n",
       "      <td id=\"T_db2f3_row0_col3\" class=\"data row0 col3\" >426.87</td>\n",
       "    </tr>\n",
       "    <tr>\n",
       "      <td id=\"T_db2f3_row1_col0\" class=\"data row1 col0\" >Test</td>\n",
       "      <td id=\"T_db2f3_row1_col1\" class=\"data row1 col1\" >0.56</td>\n",
       "      <td id=\"T_db2f3_row1_col2\" class=\"data row1 col2\" >820.63</td>\n",
       "      <td id=\"T_db2f3_row1_col3\" class=\"data row1 col3\" >1,169.09</td>\n",
       "    </tr>\n",
       "  </tbody>\n",
       "</table>\n"
      ],
      "text/plain": [
       "<pandas.io.formats.style.Styler at 0x16055f46490>"
      ]
     },
     "metadata": {},
     "output_type": "display_data"
    }
   ],
   "source": [
    "reg = RandomForestRegressor(random_state=SEED)\n",
    "reg.fit(X_train_df,y_train)\n",
    "evaluate_regression(reg, X_train_df, y_train, X_test_df, y_test)"
   ]
  },
  {
   "cell_type": "code",
   "execution_count": 23,
   "id": "06f62b15",
   "metadata": {},
   "outputs": [
    {
     "data": {
      "text/plain": [
       "['random_forest.joblib']"
      ]
     },
     "execution_count": 23,
     "metadata": {},
     "output_type": "execute_result"
    }
   ],
   "source": [
    "import joblib, os\n",
    "\n",
    "## creating a dictionary of all of the variables to save for later\n",
    "export = {'X_train':X_train_df,\n",
    "         'y_train':y_train,\n",
    "         'X_test':X_test_df,\n",
    "         'y_test':y_test,\n",
    "          'preprocessor':preprocessor,\n",
    "          'RandomForestRegressor':reg}\n",
    "joblib.dump(export, 'random_forest.joblib')"
   ]
  }
 ],
 "metadata": {
  "kernelspec": {
   "display_name": "Python (dojo-env)",
   "language": "python",
   "name": "dojo-env"
  },
  "language_info": {
   "codemirror_mode": {
    "name": "ipython",
    "version": 3
   },
   "file_extension": ".py",
   "mimetype": "text/x-python",
   "name": "python",
   "nbconvert_exporter": "python",
   "pygments_lexer": "ipython3",
   "version": "3.9.15"
  },
  "toc": {
   "base_numbering": "",
   "nav_menu": {},
   "number_sections": false,
   "sideBar": true,
   "skip_h1_title": false,
   "title_cell": "Table of Contents",
   "title_sidebar": "Contents",
   "toc_cell": false,
   "toc_position": {},
   "toc_section_display": true,
   "toc_window_display": false
  }
 },
 "nbformat": 4,
 "nbformat_minor": 5
}
